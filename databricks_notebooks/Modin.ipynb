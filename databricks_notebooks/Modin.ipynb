{
 "cells": [
  {
   "cell_type": "code",
   "execution_count": 0,
   "metadata": {
    "application/vnd.databricks.v1+cell": {
     "cellMetadata": {
      "byteLimit": 2048000,
      "rowLimit": 10000
     },
     "inputWidgets": {},
     "nuid": "0696b7d7-ec22-4fd9-96eb-cfa9c7f72ca2",
     "showTitle": false,
     "title": ""
    }
   },
   "outputs": [],
   "source": [
    "from pyspark.sql import SparkSession\n",
    "\n",
    "# Create a Spark session\n",
    "spark = SparkSession.builder \\\n",
    "    .appName(\"YourAppName\") \\\n",
    "    .getOrCreate()"
   ]
  },
  {
   "cell_type": "code",
   "execution_count": 0,
   "metadata": {
    "application/vnd.databricks.v1+cell": {
     "cellMetadata": {
      "byteLimit": 2048000,
      "rowLimit": 10000
     },
     "inputWidgets": {},
     "nuid": "c9131f65-2773-4805-95ba-b53dd45159b1",
     "showTitle": false,
     "title": ""
    }
   },
   "outputs": [
    {
     "output_type": "stream",
     "name": "stdout",
     "output_type": "stream",
     "text": [
      "spark.databricks.io.cache.enabled is false\n"
     ]
    }
   ],
   "source": [
    "spark.conf.set(\"spark.databricks.io.cache.enabled\", \"false\")\n",
    "print(\"spark.databricks.io.cache.enabled is %s\" % spark.conf.get(\"spark.databricks.io.cache.enabled\"))"
   ]
  },
  {
   "cell_type": "code",
   "execution_count": 0,
   "metadata": {
    "application/vnd.databricks.v1+cell": {
     "cellMetadata": {
      "byteLimit": 2048000,
      "rowLimit": 10000
     },
     "inputWidgets": {},
     "nuid": "511250bc-10cc-4215-aae4-5e691b4e7e5f",
     "showTitle": false,
     "title": ""
    }
   },
   "outputs": [
    {
     "output_type": "stream",
     "name": "stdout",
     "output_type": "stream",
     "text": [
      "Python interpreter will be restarted.\nRequirement already satisfied: modin in /local_disk0/.ephemeral_nfs/envs/pythonEnv-836c0a82-b002-4b10-8bc1-44e57517c577/lib/python3.9/site-packages (0.30.0)\nRequirement already satisfied: joblib in /databricks/python3/lib/python3.9/site-packages (1.1.1)\nRequirement already satisfied: psutil>=5.8.0 in /databricks/python3/lib/python3.9/site-packages (from modin) (5.8.0)\nRequirement already satisfied: pandas<2.3,>=2.2 in /local_disk0/.ephemeral_nfs/envs/pythonEnv-836c0a82-b002-4b10-8bc1-44e57517c577/lib/python3.9/site-packages (from modin) (2.2.2)\nRequirement already satisfied: packaging>=21.0 in /databricks/python3/lib/python3.9/site-packages (from modin) (21.3)\nRequirement already satisfied: numpy>=1.22.4 in /local_disk0/.ephemeral_nfs/envs/pythonEnv-836c0a82-b002-4b10-8bc1-44e57517c577/lib/python3.9/site-packages (from modin) (1.26.4)\nRequirement already satisfied: fsspec>=2022.11.0 in /local_disk0/.ephemeral_nfs/envs/pythonEnv-836c0a82-b002-4b10-8bc1-44e57517c577/lib/python3.9/site-packages (from modin) (2024.5.0)\nRequirement already satisfied: pyparsing!=3.0.5,>=2.0.2 in /databricks/python3/lib/python3.9/site-packages (from packaging>=21.0->modin) (3.0.4)\nRequirement already satisfied: python-dateutil>=2.8.2 in /databricks/python3/lib/python3.9/site-packages (from pandas<2.3,>=2.2->modin) (2.8.2)\nRequirement already satisfied: tzdata>=2022.7 in /local_disk0/.ephemeral_nfs/envs/pythonEnv-836c0a82-b002-4b10-8bc1-44e57517c577/lib/python3.9/site-packages (from pandas<2.3,>=2.2->modin) (2024.1)\nRequirement already satisfied: pytz>=2020.1 in /databricks/python3/lib/python3.9/site-packages (from pandas<2.3,>=2.2->modin) (2021.3)\nRequirement already satisfied: six>=1.5 in /databricks/python3/lib/python3.9/site-packages (from python-dateutil>=2.8.2->pandas<2.3,>=2.2->modin) (1.16.0)\nPython interpreter will be restarted.\n"
     ]
    }
   ],
   "source": [
    "%pip install modin joblib"
   ]
  },
  {
   "cell_type": "code",
   "execution_count": 0,
   "metadata": {
    "application/vnd.databricks.v1+cell": {
     "cellMetadata": {
      "byteLimit": 2048000,
      "rowLimit": 10000
     },
     "inputWidgets": {},
     "nuid": "2e144e1f-e927-4ce9-9a28-92571eee5fb7",
     "showTitle": false,
     "title": ""
    }
   },
   "outputs": [
    {
     "output_type": "display_data",
     "data": {
      "application/vnd.databricks.v1+bamboolib_hint": "{\"pd.DataFrames\": [], \"version\": \"0.0.1\"}",
      "text/plain": []
     },
     "metadata": {},
     "output_type": "display_data"
    },
    {
     "output_type": "stream",
     "name": "stdout",
     "output_type": "stream",
     "text": [
      "pandas version: 2.2.2\nnumpy version: 1.26.4\nmodin pandas version: 0.30.0\njoblib version: 1.1.1\npyarrow version: 7.0.0\npyspark version: 3.3.2.dev0\n"
     ]
    }
   ],
   "source": [
    "import pandas\n",
    "import numpy as np\n",
    "\n",
    "import modin.pandas as pd\n",
    "import joblib\n",
    "\n",
    "#import databricks.koalas as ks\n",
    "# import dask.dataframe as dd\n",
    "# from dask.distributed import Client, LocalCluster\n",
    "\n",
    "print('pandas version: %s' % pandas.__version__)\n",
    "\n",
    "print('numpy version: %s' % np.__version__)\n",
    "\n",
    "print('modin pandas version: %s' % pd.__version__)\n",
    "\n",
    "print('joblib version: %s' % joblib.__version__)\n",
    "\n",
    "#print('koalas version: %s' % ks.__version__)\n",
    "\n",
    "# import dask\n",
    "# print('dask version: %s' % dask.__version__)\n",
    "\n",
    "import pyarrow\n",
    "print('pyarrow version: %s' % pyarrow.__version__)\n",
    "\n",
    "import pyspark\n",
    "print('pyspark version: %s' % pyspark.__version__)\n",
    "\n",
    "\n",
    "import time\n",
    "\n",
    "def benchmark(f, df, benchmarks, name, **kwargs):\n",
    "    \"\"\"Benchmark the given function against the given DataFrame.\n",
    "    \n",
    "    Parameters\n",
    "    ----------\n",
    "    f: function to benchmark\n",
    "    df: data frame\n",
    "    benchmarks: container for benchmark results\n",
    "    name: task name\n",
    "    \n",
    "    Returns\n",
    "    -------\n",
    "    Duration (in seconds) of the given operation\n",
    "    \"\"\"\n",
    "    start_time = time.time()\n",
    "    ret = f(df, **kwargs)\n",
    "    benchmarks['duration'].append(time.time() - start_time)\n",
    "    benchmarks['task'].append(name)\n",
    "    print(f\"{name} took: {benchmarks['duration'][-1]} seconds\")\n",
    "    return benchmarks['duration'][-1]\n",
    "\n",
    "def get_results(benchmarks):\n",
    "    \"\"\"Return a pandas DataFrame containing benchmark results.\"\"\"\n",
    "    return pd.DataFrame.from_dict(benchmarks)"
   ]
  },
  {
   "cell_type": "code",
   "execution_count": 0,
   "metadata": {
    "application/vnd.databricks.v1+cell": {
     "cellMetadata": {
      "byteLimit": 2048000,
      "rowLimit": 10000
     },
     "inputWidgets": {},
     "nuid": "78cd9dea-73d3-45da-aa3d-368ba0607e27",
     "showTitle": false,
     "title": ""
    }
   },
   "outputs": [],
   "source": [
    "import pandas as pd\n",
    "\n",
    "file_path = \"/FileStore/tables/yellow_tripdata_2023_01.parquet\"\n",
    "#pandas_data = pd.read_parquet(file_path, engine=\"pyarrow\")\n",
    "pandas_data = spark.read.format('parquet').options(header='true').load(file_path).toPandas()"
   ]
  },
  {
   "cell_type": "code",
   "execution_count": 0,
   "metadata": {
    "application/vnd.databricks.v1+cell": {
     "cellMetadata": {
      "byteLimit": 2048000,
      "rowLimit": 10000
     },
     "inputWidgets": {},
     "nuid": "8f5941b1-42c0-4d41-b0fd-fe8c5209d9a6",
     "showTitle": false,
     "title": ""
    }
   },
   "outputs": [
    {
     "output_type": "display_data",
     "data": {
      "text/html": [
       "<div>\n",
       "<style scoped>\n",
       "    .dataframe tbody tr th:only-of-type {\n",
       "        vertical-align: middle;\n",
       "    }\n",
       "\n",
       "    .dataframe tbody tr th {\n",
       "        vertical-align: top;\n",
       "    }\n",
       "\n",
       "    .dataframe thead th {\n",
       "        text-align: right;\n",
       "    }\n",
       "</style>\n",
       "<table border=\"1\" class=\"dataframe\">\n",
       "  <thead>\n",
       "    <tr style=\"text-align: right;\">\n",
       "      <th></th>\n",
       "      <th>VendorID</th>\n",
       "      <th>tpep_pickup_datetime</th>\n",
       "      <th>tpep_dropoff_datetime</th>\n",
       "      <th>passenger_count</th>\n",
       "      <th>trip_distance</th>\n",
       "      <th>RatecodeID</th>\n",
       "      <th>store_and_fwd_flag</th>\n",
       "      <th>PULocationID</th>\n",
       "      <th>DOLocationID</th>\n",
       "      <th>payment_type</th>\n",
       "      <th>fare_amount</th>\n",
       "      <th>extra</th>\n",
       "      <th>mta_tax</th>\n",
       "      <th>tip_amount</th>\n",
       "      <th>tolls_amount</th>\n",
       "      <th>improvement_surcharge</th>\n",
       "      <th>total_amount</th>\n",
       "      <th>congestion_surcharge</th>\n",
       "      <th>airport_fee</th>\n",
       "    </tr>\n",
       "  </thead>\n",
       "  <tbody>\n",
       "    <tr>\n",
       "      <th>0</th>\n",
       "      <td>2</td>\n",
       "      <td>2023-01-01 00:32:10</td>\n",
       "      <td>2023-01-01 00:40:36</td>\n",
       "      <td>1.0</td>\n",
       "      <td>0.97</td>\n",
       "      <td>1.0</td>\n",
       "      <td>N</td>\n",
       "      <td>161</td>\n",
       "      <td>141</td>\n",
       "      <td>2</td>\n",
       "      <td>9.3</td>\n",
       "      <td>1.00</td>\n",
       "      <td>0.5</td>\n",
       "      <td>0.00</td>\n",
       "      <td>0.0</td>\n",
       "      <td>1.0</td>\n",
       "      <td>14.30</td>\n",
       "      <td>2.5</td>\n",
       "      <td>0.00</td>\n",
       "    </tr>\n",
       "    <tr>\n",
       "      <th>1</th>\n",
       "      <td>2</td>\n",
       "      <td>2023-01-01 00:55:08</td>\n",
       "      <td>2023-01-01 01:01:27</td>\n",
       "      <td>1.0</td>\n",
       "      <td>1.10</td>\n",
       "      <td>1.0</td>\n",
       "      <td>N</td>\n",
       "      <td>43</td>\n",
       "      <td>237</td>\n",
       "      <td>1</td>\n",
       "      <td>7.9</td>\n",
       "      <td>1.00</td>\n",
       "      <td>0.5</td>\n",
       "      <td>4.00</td>\n",
       "      <td>0.0</td>\n",
       "      <td>1.0</td>\n",
       "      <td>16.90</td>\n",
       "      <td>2.5</td>\n",
       "      <td>0.00</td>\n",
       "    </tr>\n",
       "    <tr>\n",
       "      <th>2</th>\n",
       "      <td>2</td>\n",
       "      <td>2023-01-01 00:25:04</td>\n",
       "      <td>2023-01-01 00:37:49</td>\n",
       "      <td>1.0</td>\n",
       "      <td>2.51</td>\n",
       "      <td>1.0</td>\n",
       "      <td>N</td>\n",
       "      <td>48</td>\n",
       "      <td>238</td>\n",
       "      <td>1</td>\n",
       "      <td>14.9</td>\n",
       "      <td>1.00</td>\n",
       "      <td>0.5</td>\n",
       "      <td>15.00</td>\n",
       "      <td>0.0</td>\n",
       "      <td>1.0</td>\n",
       "      <td>34.90</td>\n",
       "      <td>2.5</td>\n",
       "      <td>0.00</td>\n",
       "    </tr>\n",
       "    <tr>\n",
       "      <th>3</th>\n",
       "      <td>1</td>\n",
       "      <td>2023-01-01 00:03:48</td>\n",
       "      <td>2023-01-01 00:13:25</td>\n",
       "      <td>0.0</td>\n",
       "      <td>1.90</td>\n",
       "      <td>1.0</td>\n",
       "      <td>N</td>\n",
       "      <td>138</td>\n",
       "      <td>7</td>\n",
       "      <td>1</td>\n",
       "      <td>12.1</td>\n",
       "      <td>7.25</td>\n",
       "      <td>0.5</td>\n",
       "      <td>0.00</td>\n",
       "      <td>0.0</td>\n",
       "      <td>1.0</td>\n",
       "      <td>20.85</td>\n",
       "      <td>0.0</td>\n",
       "      <td>1.25</td>\n",
       "    </tr>\n",
       "    <tr>\n",
       "      <th>4</th>\n",
       "      <td>2</td>\n",
       "      <td>2023-01-01 00:10:29</td>\n",
       "      <td>2023-01-01 00:21:19</td>\n",
       "      <td>1.0</td>\n",
       "      <td>1.43</td>\n",
       "      <td>1.0</td>\n",
       "      <td>N</td>\n",
       "      <td>107</td>\n",
       "      <td>79</td>\n",
       "      <td>1</td>\n",
       "      <td>11.4</td>\n",
       "      <td>1.00</td>\n",
       "      <td>0.5</td>\n",
       "      <td>3.28</td>\n",
       "      <td>0.0</td>\n",
       "      <td>1.0</td>\n",
       "      <td>19.68</td>\n",
       "      <td>2.5</td>\n",
       "      <td>0.00</td>\n",
       "    </tr>\n",
       "  </tbody>\n",
       "</table>\n",
       "</div>"
      ]
     },
     "metadata": {
      "application/vnd.databricks.v1+output": {
       "addedWidgets": {},
       "arguments": {},
       "data": "<div>\n<style scoped>\n    .dataframe tbody tr th:only-of-type {\n        vertical-align: middle;\n    }\n\n    .dataframe tbody tr th {\n        vertical-align: top;\n    }\n\n    .dataframe thead th {\n        text-align: right;\n    }\n</style>\n<table border=\"1\" class=\"dataframe\">\n  <thead>\n    <tr style=\"text-align: right;\">\n      <th></th>\n      <th>VendorID</th>\n      <th>tpep_pickup_datetime</th>\n      <th>tpep_dropoff_datetime</th>\n      <th>passenger_count</th>\n      <th>trip_distance</th>\n      <th>RatecodeID</th>\n      <th>store_and_fwd_flag</th>\n      <th>PULocationID</th>\n      <th>DOLocationID</th>\n      <th>payment_type</th>\n      <th>fare_amount</th>\n      <th>extra</th>\n      <th>mta_tax</th>\n      <th>tip_amount</th>\n      <th>tolls_amount</th>\n      <th>improvement_surcharge</th>\n      <th>total_amount</th>\n      <th>congestion_surcharge</th>\n      <th>airport_fee</th>\n    </tr>\n  </thead>\n  <tbody>\n    <tr>\n      <th>0</th>\n      <td>2</td>\n      <td>2023-01-01 00:32:10</td>\n      <td>2023-01-01 00:40:36</td>\n      <td>1.0</td>\n      <td>0.97</td>\n      <td>1.0</td>\n      <td>N</td>\n      <td>161</td>\n      <td>141</td>\n      <td>2</td>\n      <td>9.3</td>\n      <td>1.00</td>\n      <td>0.5</td>\n      <td>0.00</td>\n      <td>0.0</td>\n      <td>1.0</td>\n      <td>14.30</td>\n      <td>2.5</td>\n      <td>0.00</td>\n    </tr>\n    <tr>\n      <th>1</th>\n      <td>2</td>\n      <td>2023-01-01 00:55:08</td>\n      <td>2023-01-01 01:01:27</td>\n      <td>1.0</td>\n      <td>1.10</td>\n      <td>1.0</td>\n      <td>N</td>\n      <td>43</td>\n      <td>237</td>\n      <td>1</td>\n      <td>7.9</td>\n      <td>1.00</td>\n      <td>0.5</td>\n      <td>4.00</td>\n      <td>0.0</td>\n      <td>1.0</td>\n      <td>16.90</td>\n      <td>2.5</td>\n      <td>0.00</td>\n    </tr>\n    <tr>\n      <th>2</th>\n      <td>2</td>\n      <td>2023-01-01 00:25:04</td>\n      <td>2023-01-01 00:37:49</td>\n      <td>1.0</td>\n      <td>2.51</td>\n      <td>1.0</td>\n      <td>N</td>\n      <td>48</td>\n      <td>238</td>\n      <td>1</td>\n      <td>14.9</td>\n      <td>1.00</td>\n      <td>0.5</td>\n      <td>15.00</td>\n      <td>0.0</td>\n      <td>1.0</td>\n      <td>34.90</td>\n      <td>2.5</td>\n      <td>0.00</td>\n    </tr>\n    <tr>\n      <th>3</th>\n      <td>1</td>\n      <td>2023-01-01 00:03:48</td>\n      <td>2023-01-01 00:13:25</td>\n      <td>0.0</td>\n      <td>1.90</td>\n      <td>1.0</td>\n      <td>N</td>\n      <td>138</td>\n      <td>7</td>\n      <td>1</td>\n      <td>12.1</td>\n      <td>7.25</td>\n      <td>0.5</td>\n      <td>0.00</td>\n      <td>0.0</td>\n      <td>1.0</td>\n      <td>20.85</td>\n      <td>0.0</td>\n      <td>1.25</td>\n    </tr>\n    <tr>\n      <th>4</th>\n      <td>2</td>\n      <td>2023-01-01 00:10:29</td>\n      <td>2023-01-01 00:21:19</td>\n      <td>1.0</td>\n      <td>1.43</td>\n      <td>1.0</td>\n      <td>N</td>\n      <td>107</td>\n      <td>79</td>\n      <td>1</td>\n      <td>11.4</td>\n      <td>1.00</td>\n      <td>0.5</td>\n      <td>3.28</td>\n      <td>0.0</td>\n      <td>1.0</td>\n      <td>19.68</td>\n      <td>2.5</td>\n      <td>0.00</td>\n    </tr>\n  </tbody>\n</table>\n</div>",
       "datasetInfos": [],
       "metadata": {},
       "removedWidgets": [],
       "textData": null,
       "type": "htmlSandbox"
      }
     },
     "output_type": "display_data"
    }
   ],
   "source": [
    "modin_data = pd.DataFrame(pandas_data)\n",
    "modin_benchmarks = {\n",
    "    'duration': [],  # in seconds\n",
    "    'task': [],\n",
    "}\n",
    "modin_data.head()\n"
   ]
  },
  {
   "cell_type": "code",
   "execution_count": 0,
   "metadata": {
    "application/vnd.databricks.v1+cell": {
     "cellMetadata": {
      "byteLimit": 2048000,
      "rowLimit": 10000
     },
     "inputWidgets": {},
     "nuid": "f23c9ce5-2981-4ccc-9464-8f1c03943370",
     "showTitle": false,
     "title": ""
    }
   },
   "outputs": [],
   "source": [
    "from modin.config import Engine\n",
    "# Set the engine to 'joblib'\n",
    "# Engine.put(\"joblib\")\n",
    "\n",
    "def read_file_parquet():\n",
    "    return pd.read_parquet(\"/FileStore/tables/yellow_tripdata_2023_01.parquet\")\n",
    "\n",
    "def count(df):\n",
    "    return len(df)\n",
    "\n",
    "def count_index_length(df):\n",
    "    return len(df.index)\n",
    "\n",
    "def mean(df):\n",
    "    return df['fare_amount'].mean()\n",
    "\n",
    "def standard_deviation(df):\n",
    "    return df['fare_amount'].std()\n",
    "\n",
    "def mean_of_sum(df):\n",
    "    return (df['fare_amount'] + df['tip_amount']).mean()\n",
    "\n",
    "def sum_columns(df):\n",
    "    return (df['fare_amount'] + df['tip_amount'])\n",
    "\n",
    "def mean_of_product(df):\n",
    "    return (df['fare_amount'] * df['tip_amount']).mean()\n",
    "\n",
    "def product_columns(df):\n",
    "    return (df['fare_amount'] * df['tip_amount'])\n",
    "\n",
    "def value_counts(df):\n",
    "    return df['fare_amount'].value_counts()\n",
    "\n",
    "def mean_of_complicated_arithmetic_operation(df):\n",
    "    theta_1 = df['start_lon']\n",
    "    phi_1 = df['start_lat']\n",
    "    theta_2 = df['end_lon']\n",
    "    phi_2 = df['end_lat']\n",
    "    temp = (np.sin((theta_2-theta_1)/2*np.pi/180)**2 +\n",
    "            np.cos(theta_1*np.pi/180) * np.cos(theta_2*np.pi/180) * np.sin((phi_2-phi_1)/2*np.pi/180)**2)\n",
    "    ret = 2 * np.arctan2(np.sqrt(temp), np.sqrt(1-temp))\n",
    "    return ret.mean()\n",
    "\n",
    "def complicated_arithmetic_operation(df):\n",
    "    theta_1 = df['start_lon']\n",
    "    phi_1 = df['start_lat']\n",
    "    theta_2 = df['end_lon']\n",
    "    phi_2 = df['end_lat']\n",
    "    temp = (np.sin((theta_2-theta_1)/2*np.pi/180)**2 +\n",
    "            np.cos(theta_1*np.pi/180) * np.cos(theta_2*np.pi/180) * np.sin((phi_2-phi_1)/2*np.pi/180)**2)\n",
    "    ret = 2 * np.arctan2(np.sqrt(temp), np.sqrt(1-temp))\n",
    "    return ret\n",
    "\n",
    "def groupby_statistics(df):\n",
    "    result = df.groupby('passenger_count').agg(\n",
    "        fare_amount_mean=('fare_amount', 'mean'),\n",
    "        fare_amount_std=('fare_amount', 'std'),\n",
    "        tip_amount_mean=('tip_amount', 'mean'),\n",
    "        tip_amount_std=('tip_amount', 'std')\n",
    "    )\n",
    "    return result\n",
    "\n",
    "other = groupby_statistics(modin_data)\n",
    "# other.columns = pd.Index([e[0]+'_' + e[1] for e in other.columns.tolist()])\n",
    "\n",
    "def join_count(df, other):\n",
    "    return len(pd.merge(df, other, left_index=True, right_index=True))\n",
    "\n",
    "def join_data(df, other):\n",
    "    return pd.merge(df, other, left_index=True, right_index=True)"
   ]
  },
  {
   "cell_type": "code",
   "execution_count": 0,
   "metadata": {
    "application/vnd.databricks.v1+cell": {
     "cellMetadata": {
      "byteLimit": 2048000,
      "rowLimit": 10000
     },
     "inputWidgets": {},
     "nuid": "a2e5391e-65bc-48b3-8f5e-d729e5325a3c",
     "showTitle": false,
     "title": ""
    }
   },
   "outputs": [
    {
     "output_type": "stream",
     "name": "stdout",
     "output_type": "stream",
     "text": [
      "count took: 1.5020370483398438e-05 seconds\ncount index length took: 5.4836273193359375e-06 seconds\nmean took: 0.008271455764770508 seconds\nstandard deviation took: 0.05388307571411133 seconds\nmean of columns addition took: 0.021149635314941406 seconds\naddition of columns took: 0.007768869400024414 seconds\nmean of columns multiplication took: 0.014803647994995117 seconds\nmultiplication of columns took: 0.007726430892944336 seconds\nvalue counts took: 0.07363486289978027 seconds\ngroupby statistics took: 0.18078207969665527 seconds\njoin count took: 0.03470349311828613 seconds\njoin took: 0.015247106552124023 seconds\nOut[5]: 0.015247106552124023"
     ]
    }
   ],
   "source": [
    "#benchmark(read_file_parquet, df=None, benchmarks=dask_benchmarks, name='read file')\n",
    "benchmark(count, df=modin_data, benchmarks=modin_benchmarks, name='count')\n",
    "benchmark(count_index_length, df=modin_data, benchmarks=modin_benchmarks, name='count index length')\n",
    "benchmark(mean, df=modin_data, benchmarks=modin_benchmarks, name='mean')\n",
    "benchmark(standard_deviation, df=modin_data, benchmarks=modin_benchmarks, name='standard deviation')\n",
    "benchmark(mean_of_sum, df=modin_data, benchmarks=modin_benchmarks, name='mean of columns addition')\n",
    "benchmark(sum_columns, df=modin_data, benchmarks=modin_benchmarks, name='addition of columns')\n",
    "benchmark(mean_of_product, df=modin_data, benchmarks=modin_benchmarks, name='mean of columns multiplication')\n",
    "benchmark(product_columns, df=modin_data, benchmarks=modin_benchmarks, name='multiplication of columns')\n",
    "benchmark(value_counts, df=modin_data, benchmarks=modin_benchmarks, name='value counts')\n",
    "# No column for this\n",
    "# benchmark(mean_of_complicated_arithmetic_operation, df=dask_data, benchmarks=dask_benchmarks, name='mean of complex arithmetic ops')\n",
    "# benchmark(complicated_arithmetic_operation, df=dask_data, benchmarks=dask_benchmarks, name='complex arithmetic ops')\n",
    "benchmark(groupby_statistics, df=modin_data, benchmarks=modin_benchmarks, name='groupby statistics')\n",
    "benchmark(join_count, modin_data, benchmarks=modin_benchmarks, name='join count', other=other)\n",
    "benchmark(join_data, modin_data, benchmarks=modin_benchmarks, name='join', other=other) # cant join"
   ]
  },
  {
   "cell_type": "markdown",
   "metadata": {
    "application/vnd.databricks.v1+cell": {
     "cellMetadata": {
      "byteLimit": 2048000,
      "rowLimit": 10000
     },
     "inputWidgets": {},
     "nuid": "23db2754-f6b4-4a0e-a39f-3a826a7c1007",
     "showTitle": false,
     "title": ""
    }
   },
   "source": [
    "Operations with filtering"
   ]
  },
  {
   "cell_type": "code",
   "execution_count": 0,
   "metadata": {
    "application/vnd.databricks.v1+cell": {
     "cellMetadata": {
      "byteLimit": 2048000,
      "rowLimit": 10000
     },
     "inputWidgets": {},
     "nuid": "9e53b220-56d6-4809-b00e-f2aae1f3c192",
     "showTitle": false,
     "title": ""
    }
   },
   "outputs": [],
   "source": [
    "expr_filter = (modin_data.tip_amount >= 1) & (modin_data.tip_amount <= 5)\n",
    "\n",
    "def filter_data(df):\n",
    "    return df[expr_filter]\n",
    "  \n",
    "modin_filtered = filter_data(modin_data)"
   ]
  },
  {
   "cell_type": "code",
   "execution_count": 0,
   "metadata": {
    "application/vnd.databricks.v1+cell": {
     "cellMetadata": {
      "byteLimit": 2048000,
      "rowLimit": 10000
     },
     "inputWidgets": {},
     "nuid": "c2b37a18-89eb-4dfd-9a18-6124a51208d7",
     "showTitle": false,
     "title": ""
    }
   },
   "outputs": [
    {
     "output_type": "stream",
     "name": "stdout",
     "output_type": "stream",
     "text": [
      "filtered count took: 1.2159347534179688e-05 seconds\nfiltered count index length took: 5.7220458984375e-06 seconds\nfiltered mean took: 0.005141735076904297 seconds\nfiltered standard deviation took: 0.028097152709960938 seconds\nfiltered mean of columns addition took: 0.009072303771972656 seconds\nfiltered addition of columns took: 0.0043392181396484375 seconds\nfiltered mean of columns multiplication took: 0.008221149444580078 seconds\nfiltered multiplication of columns took: 0.004019737243652344 seconds\nfiltered value counts took: 0.03287196159362793 seconds\nfiltered groupby statistics took: 0.09776163101196289 seconds\nfiltered join count took: 0.009285211563110352 seconds\nfiltered join took: 0.008361339569091797 seconds\nOut[7]: 0.008361339569091797"
     ]
    }
   ],
   "source": [
    "benchmark(count, modin_filtered, benchmarks=modin_benchmarks, name='filtered count')\n",
    "benchmark(count_index_length, modin_filtered, benchmarks=modin_benchmarks, name='filtered count index length')\n",
    "benchmark(mean, modin_filtered, benchmarks=modin_benchmarks, name='filtered mean')\n",
    "benchmark(standard_deviation, modin_filtered, benchmarks=modin_benchmarks, name='filtered standard deviation')\n",
    "benchmark(mean_of_sum, modin_filtered, benchmarks=modin_benchmarks, name ='filtered mean of columns addition')\n",
    "benchmark(sum_columns, df=modin_filtered, benchmarks=modin_benchmarks, name='filtered addition of columns')\n",
    "benchmark(mean_of_product, modin_filtered, benchmarks=modin_benchmarks, name ='filtered mean of columns multiplication')\n",
    "benchmark(product_columns, df=modin_filtered, benchmarks=modin_benchmarks, name='filtered multiplication of columns')\n",
    "#benchmark(mean_of_complicated_arithmetic_operation, dask_filtered, benchmarks=dask_benchmarks, name='filtered mean of complex arithmetic ops')\n",
    "#benchmark(complicated_arithmetic_operation, dask_filtered, benchmarks=dask_benchmarks, name='filtered complex arithmetic ops')\n",
    "benchmark(value_counts, modin_filtered, benchmarks=modin_benchmarks, name ='filtered value counts')\n",
    "benchmark(groupby_statistics, modin_filtered, benchmarks=modin_benchmarks, name='filtered groupby statistics')\n",
    "\n",
    "other = groupby_statistics(modin_filtered)\n",
    "# other.columns = pd.Index([e[0]+'_' + e[1] for e in other.columns.tolist()])\n",
    "\n",
    "benchmark(join_count, modin_filtered, benchmarks=modin_benchmarks, name='filtered join count', other=other)\n",
    "benchmark(join_data, modin_filtered, benchmarks=modin_benchmarks, name='filtered join', other=other)"
   ]
  },
  {
   "cell_type": "code",
   "execution_count": 0,
   "metadata": {
    "application/vnd.databricks.v1+cell": {
     "cellMetadata": {
      "byteLimit": 2048000,
      "rowLimit": 10000
     },
     "inputWidgets": {},
     "nuid": "484a3038-3d52-4cd2-ab62-866bac28fb24",
     "showTitle": false,
     "title": ""
    }
   },
   "outputs": [
    {
     "output_type": "display_data",
     "data": {
      "text/html": [
       "<div>\n",
       "<style scoped>\n",
       "    .dataframe tbody tr th:only-of-type {\n",
       "        vertical-align: middle;\n",
       "    }\n",
       "\n",
       "    .dataframe tbody tr th {\n",
       "        vertical-align: top;\n",
       "    }\n",
       "\n",
       "    .dataframe thead th {\n",
       "        text-align: right;\n",
       "    }\n",
       "</style>\n",
       "<table border=\"1\" class=\"dataframe\">\n",
       "  <thead>\n",
       "    <tr style=\"text-align: right;\">\n",
       "      <th></th>\n",
       "      <th>duration</th>\n",
       "    </tr>\n",
       "    <tr>\n",
       "      <th>task</th>\n",
       "      <th></th>\n",
       "    </tr>\n",
       "  </thead>\n",
       "  <tbody>\n",
       "    <tr>\n",
       "      <th>count</th>\n",
       "      <td>0.000015</td>\n",
       "    </tr>\n",
       "    <tr>\n",
       "      <th>count index length</th>\n",
       "      <td>0.000005</td>\n",
       "    </tr>\n",
       "    <tr>\n",
       "      <th>mean</th>\n",
       "      <td>0.008271</td>\n",
       "    </tr>\n",
       "    <tr>\n",
       "      <th>standard deviation</th>\n",
       "      <td>0.053883</td>\n",
       "    </tr>\n",
       "    <tr>\n",
       "      <th>mean of columns addition</th>\n",
       "      <td>0.021150</td>\n",
       "    </tr>\n",
       "    <tr>\n",
       "      <th>addition of columns</th>\n",
       "      <td>0.007769</td>\n",
       "    </tr>\n",
       "    <tr>\n",
       "      <th>mean of columns multiplication</th>\n",
       "      <td>0.014804</td>\n",
       "    </tr>\n",
       "    <tr>\n",
       "      <th>multiplication of columns</th>\n",
       "      <td>0.007726</td>\n",
       "    </tr>\n",
       "    <tr>\n",
       "      <th>value counts</th>\n",
       "      <td>0.073635</td>\n",
       "    </tr>\n",
       "    <tr>\n",
       "      <th>groupby statistics</th>\n",
       "      <td>0.180782</td>\n",
       "    </tr>\n",
       "    <tr>\n",
       "      <th>join count</th>\n",
       "      <td>0.034703</td>\n",
       "    </tr>\n",
       "    <tr>\n",
       "      <th>join</th>\n",
       "      <td>0.015247</td>\n",
       "    </tr>\n",
       "    <tr>\n",
       "      <th>filtered count</th>\n",
       "      <td>0.000012</td>\n",
       "    </tr>\n",
       "    <tr>\n",
       "      <th>filtered count index length</th>\n",
       "      <td>0.000006</td>\n",
       "    </tr>\n",
       "    <tr>\n",
       "      <th>filtered mean</th>\n",
       "      <td>0.005142</td>\n",
       "    </tr>\n",
       "    <tr>\n",
       "      <th>filtered standard deviation</th>\n",
       "      <td>0.028097</td>\n",
       "    </tr>\n",
       "    <tr>\n",
       "      <th>filtered mean of columns addition</th>\n",
       "      <td>0.009072</td>\n",
       "    </tr>\n",
       "    <tr>\n",
       "      <th>filtered addition of columns</th>\n",
       "      <td>0.004339</td>\n",
       "    </tr>\n",
       "    <tr>\n",
       "      <th>filtered mean of columns multiplication</th>\n",
       "      <td>0.008221</td>\n",
       "    </tr>\n",
       "    <tr>\n",
       "      <th>filtered multiplication of columns</th>\n",
       "      <td>0.004020</td>\n",
       "    </tr>\n",
       "    <tr>\n",
       "      <th>filtered value counts</th>\n",
       "      <td>0.032872</td>\n",
       "    </tr>\n",
       "    <tr>\n",
       "      <th>filtered groupby statistics</th>\n",
       "      <td>0.097762</td>\n",
       "    </tr>\n",
       "    <tr>\n",
       "      <th>filtered join count</th>\n",
       "      <td>0.009285</td>\n",
       "    </tr>\n",
       "    <tr>\n",
       "      <th>filtered join</th>\n",
       "      <td>0.008361</td>\n",
       "    </tr>\n",
       "  </tbody>\n",
       "</table>\n",
       "</div>"
      ]
     },
     "metadata": {
      "application/vnd.databricks.v1+output": {
       "addedWidgets": {},
       "arguments": {},
       "data": "<div>\n<style scoped>\n    .dataframe tbody tr th:only-of-type {\n        vertical-align: middle;\n    }\n\n    .dataframe tbody tr th {\n        vertical-align: top;\n    }\n\n    .dataframe thead th {\n        text-align: right;\n    }\n</style>\n<table border=\"1\" class=\"dataframe\">\n  <thead>\n    <tr style=\"text-align: right;\">\n      <th></th>\n      <th>duration</th>\n    </tr>\n    <tr>\n      <th>task</th>\n      <th></th>\n    </tr>\n  </thead>\n  <tbody>\n    <tr>\n      <th>count</th>\n      <td>0.000015</td>\n    </tr>\n    <tr>\n      <th>count index length</th>\n      <td>0.000005</td>\n    </tr>\n    <tr>\n      <th>mean</th>\n      <td>0.008271</td>\n    </tr>\n    <tr>\n      <th>standard deviation</th>\n      <td>0.053883</td>\n    </tr>\n    <tr>\n      <th>mean of columns addition</th>\n      <td>0.021150</td>\n    </tr>\n    <tr>\n      <th>addition of columns</th>\n      <td>0.007769</td>\n    </tr>\n    <tr>\n      <th>mean of columns multiplication</th>\n      <td>0.014804</td>\n    </tr>\n    <tr>\n      <th>multiplication of columns</th>\n      <td>0.007726</td>\n    </tr>\n    <tr>\n      <th>value counts</th>\n      <td>0.073635</td>\n    </tr>\n    <tr>\n      <th>groupby statistics</th>\n      <td>0.180782</td>\n    </tr>\n    <tr>\n      <th>join count</th>\n      <td>0.034703</td>\n    </tr>\n    <tr>\n      <th>join</th>\n      <td>0.015247</td>\n    </tr>\n    <tr>\n      <th>filtered count</th>\n      <td>0.000012</td>\n    </tr>\n    <tr>\n      <th>filtered count index length</th>\n      <td>0.000006</td>\n    </tr>\n    <tr>\n      <th>filtered mean</th>\n      <td>0.005142</td>\n    </tr>\n    <tr>\n      <th>filtered standard deviation</th>\n      <td>0.028097</td>\n    </tr>\n    <tr>\n      <th>filtered mean of columns addition</th>\n      <td>0.009072</td>\n    </tr>\n    <tr>\n      <th>filtered addition of columns</th>\n      <td>0.004339</td>\n    </tr>\n    <tr>\n      <th>filtered mean of columns multiplication</th>\n      <td>0.008221</td>\n    </tr>\n    <tr>\n      <th>filtered multiplication of columns</th>\n      <td>0.004020</td>\n    </tr>\n    <tr>\n      <th>filtered value counts</th>\n      <td>0.032872</td>\n    </tr>\n    <tr>\n      <th>filtered groupby statistics</th>\n      <td>0.097762</td>\n    </tr>\n    <tr>\n      <th>filtered join count</th>\n      <td>0.009285</td>\n    </tr>\n    <tr>\n      <th>filtered join</th>\n      <td>0.008361</td>\n    </tr>\n  </tbody>\n</table>\n</div>",
       "datasetInfos": [],
       "metadata": {},
       "removedWidgets": [],
       "textData": null,
       "type": "htmlSandbox"
      }
     },
     "output_type": "display_data"
    }
   ],
   "source": [
    "modin_res_temp = get_results(modin_benchmarks).set_index('task')\n",
    "modin_res_temp"
   ]
  },
  {
   "cell_type": "code",
   "execution_count": 0,
   "metadata": {
    "application/vnd.databricks.v1+cell": {
     "cellMetadata": {
      "byteLimit": 2048000,
      "rowLimit": 10000
     },
     "inputWidgets": {},
     "nuid": "b7dd2fab-2599-4506-b398-a1d8931850b4",
     "showTitle": false,
     "title": ""
    }
   },
   "outputs": [],
   "source": []
  },
  {
   "cell_type": "code",
   "execution_count": 0,
   "metadata": {
    "application/vnd.databricks.v1+cell": {
     "cellMetadata": {
      "byteLimit": 2048000,
      "rowLimit": 10000
     },
     "inputWidgets": {},
     "nuid": "19bab9f3-10cf-45a0-840e-a5ac6eae516e",
     "showTitle": false,
     "title": ""
    }
   },
   "outputs": [],
   "source": []
  },
  {
   "cell_type": "code",
   "execution_count": 0,
   "metadata": {
    "application/vnd.databricks.v1+cell": {
     "cellMetadata": {
      "byteLimit": 2048000,
      "rowLimit": 10000
     },
     "inputWidgets": {},
     "nuid": "9636aed0-7edd-450a-a4ae-8ba8cc39e76d",
     "showTitle": false,
     "title": ""
    }
   },
   "outputs": [],
   "source": []
  }
 ],
 "metadata": {
  "application/vnd.databricks.v1+notebook": {
   "dashboards": [],
   "environmentMetadata": null,
   "language": "python",
   "notebookMetadata": {
    "pythonIndentUnit": 4
   },
   "notebookName": "Modin",
   "widgets": {}
  }
 },
 "nbformat": 4,
 "nbformat_minor": 0
}
