{
 "cells": [
  {
   "cell_type": "code",
   "execution_count": 0,
   "metadata": {
    "application/vnd.databricks.v1+cell": {
     "cellMetadata": {
      "byteLimit": 2048000,
      "rowLimit": 10000
     },
     "inputWidgets": {},
     "nuid": "d069b82a-adc0-4d89-8760-6c950a2eafbd",
     "showTitle": false,
     "title": ""
    }
   },
   "outputs": [],
   "source": [
    "from pyspark.sql import SparkSession\n",
    "\n",
    "# Create a Spark session\n",
    "spark = SparkSession.builder \\\n",
    "    .appName(\"YourAppName\") \\\n",
    "    .getOrCreate()"
   ]
  },
  {
   "cell_type": "code",
   "execution_count": 0,
   "metadata": {
    "application/vnd.databricks.v1+cell": {
     "cellMetadata": {
      "byteLimit": 2048000,
      "rowLimit": 10000
     },
     "inputWidgets": {},
     "nuid": "6579cb09-7ecd-4a11-b91b-4705d9bf9c87",
     "showTitle": false,
     "title": ""
    }
   },
   "outputs": [
    {
     "output_type": "stream",
     "name": "stdout",
     "output_type": "stream",
     "text": [
      "spark.databricks.io.cache.enabled is false\n"
     ]
    }
   ],
   "source": [
    "spark.conf.set(\"spark.databricks.io.cache.enabled\", \"false\")\n",
    "print(\"spark.databricks.io.cache.enabled is %s\" % spark.conf.get(\"spark.databricks.io.cache.enabled\"))"
   ]
  },
  {
   "cell_type": "code",
   "execution_count": 0,
   "metadata": {
    "application/vnd.databricks.v1+cell": {
     "cellMetadata": {
      "byteLimit": 2048000,
      "rowLimit": 10000
     },
     "inputWidgets": {},
     "nuid": "d6a2f72d-5777-4360-962c-b34d88519a90",
     "showTitle": false,
     "title": ""
    }
   },
   "outputs": [
    {
     "output_type": "stream",
     "name": "stdout",
     "output_type": "stream",
     "text": [
      "Python interpreter will be restarted.\nRequirement already satisfied: polars in /local_disk0/.ephemeral_nfs/envs/pythonEnv-28ab329d-3760-41ae-a3b1-2a6fd1845b9a/lib/python3.9/site-packages (0.20.30)\nPython interpreter will be restarted.\n"
     ]
    }
   ],
   "source": [
    "%pip install polars"
   ]
  },
  {
   "cell_type": "code",
   "execution_count": 0,
   "metadata": {
    "application/vnd.databricks.v1+cell": {
     "cellMetadata": {
      "byteLimit": 2048000,
      "rowLimit": 10000
     },
     "inputWidgets": {},
     "nuid": "599269d2-2a93-4ffc-9200-d99bb3a6869d",
     "showTitle": false,
     "title": ""
    }
   },
   "outputs": [
    {
     "output_type": "display_data",
     "data": {
      "application/vnd.databricks.v1+bamboolib_hint": "{\"pd.DataFrames\": [], \"version\": \"0.0.1\"}",
      "text/plain": []
     },
     "metadata": {},
     "output_type": "display_data"
    },
    {
     "output_type": "stream",
     "name": "stdout",
     "output_type": "stream",
     "text": [
      "pandas version: 1.4.2\nnumpy version: 1.21.5\npolars version: 0.20.30\npyarrow version: 7.0.0\npyspark version: 3.3.2.dev0\n"
     ]
    }
   ],
   "source": [
    "import pandas as pd\n",
    "import numpy as np\n",
    "import polars as pl\n",
    "#import databricks.koalas as ks\n",
    "# import dask.dataframe as dd\n",
    "# from dask.distributed import Client, LocalCluster\n",
    "\n",
    "print('pandas version: %s' % pd.__version__)\n",
    "\n",
    "print('numpy version: %s' % np.__version__)\n",
    "\n",
    "print('polars version: %s' % pl.__version__)\n",
    "\n",
    "#print('koalas version: %s' % ks.__version__)\n",
    "\n",
    "# import dask\n",
    "# print('dask version: %s' % dask.__version__)\n",
    "\n",
    "import pyarrow\n",
    "print('pyarrow version: %s' % pyarrow.__version__)\n",
    "\n",
    "import pyspark\n",
    "print('pyspark version: %s' % pyspark.__version__)\n",
    "\n",
    "\n",
    "import time\n",
    "\n",
    "def benchmark(f, df, benchmarks, name, **kwargs):\n",
    "    \"\"\"Benchmark the given function against the given DataFrame.\n",
    "    \n",
    "    Parameters\n",
    "    ----------\n",
    "    f: function to benchmark\n",
    "    df: data frame\n",
    "    benchmarks: container for benchmark results\n",
    "    name: task name\n",
    "    \n",
    "    Returns\n",
    "    -------\n",
    "    Duration (in seconds) of the given operation\n",
    "    \"\"\"\n",
    "    start_time = time.time()\n",
    "    ret = f(df, **kwargs)\n",
    "    benchmarks['duration'].append(time.time() - start_time)\n",
    "    benchmarks['task'].append(name)\n",
    "    print(f\"{name} took: {benchmarks['duration'][-1]} seconds\")\n",
    "    return benchmarks['duration'][-1]\n",
    "\n",
    "def get_results(benchmarks):\n",
    "    \"\"\"Return a pandas DataFrame containing benchmark results.\"\"\"\n",
    "    return pd.DataFrame.from_dict(benchmarks)"
   ]
  },
  {
   "cell_type": "code",
   "execution_count": 0,
   "metadata": {
    "application/vnd.databricks.v1+cell": {
     "cellMetadata": {
      "byteLimit": 2048000,
      "rowLimit": 10000
     },
     "inputWidgets": {},
     "nuid": "0a9495b5-615f-4a53-b097-66b9d3032794",
     "showTitle": false,
     "title": ""
    }
   },
   "outputs": [],
   "source": [
    "file_path = \"/FileStore/tables/yellow_tripdata_2023_01.parquet\"\n",
    "#pandas_data = pd.read_parquet(file_path, engine=\"pyarrow\")\n",
    "pandas_data = spark.read.format('parquet').options(header='true').load(file_path).toPandas()"
   ]
  },
  {
   "cell_type": "code",
   "execution_count": 0,
   "metadata": {
    "application/vnd.databricks.v1+cell": {
     "cellMetadata": {
      "byteLimit": 2048000,
      "rowLimit": 10000
     },
     "inputWidgets": {},
     "nuid": "0ec1fe2e-2519-4671-95e4-079c9901f593",
     "showTitle": false,
     "title": ""
    }
   },
   "outputs": [
    {
     "output_type": "display_data",
     "data": {
      "text/html": [
       "<div><style>\n",
       ".dataframe > thead > tr,\n",
       ".dataframe > tbody > tr {\n",
       "  text-align: right;\n",
       "  white-space: pre-wrap;\n",
       "}\n",
       "</style>\n",
       "<small>shape: (5, 19)</small><table border=\"1\" class=\"dataframe\"><thead><tr><th>VendorID</th><th>tpep_pickup_datetime</th><th>tpep_dropoff_datetime</th><th>passenger_count</th><th>trip_distance</th><th>RatecodeID</th><th>store_and_fwd_flag</th><th>PULocationID</th><th>DOLocationID</th><th>payment_type</th><th>fare_amount</th><th>extra</th><th>mta_tax</th><th>tip_amount</th><th>tolls_amount</th><th>improvement_surcharge</th><th>total_amount</th><th>congestion_surcharge</th><th>airport_fee</th></tr><tr><td>i64</td><td>datetime[ns]</td><td>datetime[ns]</td><td>f64</td><td>f64</td><td>f64</td><td>str</td><td>i64</td><td>i64</td><td>i64</td><td>f64</td><td>f64</td><td>f64</td><td>f64</td><td>f64</td><td>f64</td><td>f64</td><td>f64</td><td>f64</td></tr></thead><tbody><tr><td>2</td><td>2023-01-01 00:32:10</td><td>2023-01-01 00:40:36</td><td>1.0</td><td>0.97</td><td>1.0</td><td>&quot;N&quot;</td><td>161</td><td>141</td><td>2</td><td>9.3</td><td>1.0</td><td>0.5</td><td>0.0</td><td>0.0</td><td>1.0</td><td>14.3</td><td>2.5</td><td>0.0</td></tr><tr><td>2</td><td>2023-01-01 00:55:08</td><td>2023-01-01 01:01:27</td><td>1.0</td><td>1.1</td><td>1.0</td><td>&quot;N&quot;</td><td>43</td><td>237</td><td>1</td><td>7.9</td><td>1.0</td><td>0.5</td><td>4.0</td><td>0.0</td><td>1.0</td><td>16.9</td><td>2.5</td><td>0.0</td></tr><tr><td>2</td><td>2023-01-01 00:25:04</td><td>2023-01-01 00:37:49</td><td>1.0</td><td>2.51</td><td>1.0</td><td>&quot;N&quot;</td><td>48</td><td>238</td><td>1</td><td>14.9</td><td>1.0</td><td>0.5</td><td>15.0</td><td>0.0</td><td>1.0</td><td>34.9</td><td>2.5</td><td>0.0</td></tr><tr><td>1</td><td>2023-01-01 00:03:48</td><td>2023-01-01 00:13:25</td><td>0.0</td><td>1.9</td><td>1.0</td><td>&quot;N&quot;</td><td>138</td><td>7</td><td>1</td><td>12.1</td><td>7.25</td><td>0.5</td><td>0.0</td><td>0.0</td><td>1.0</td><td>20.85</td><td>0.0</td><td>1.25</td></tr><tr><td>2</td><td>2023-01-01 00:10:29</td><td>2023-01-01 00:21:19</td><td>1.0</td><td>1.43</td><td>1.0</td><td>&quot;N&quot;</td><td>107</td><td>79</td><td>1</td><td>11.4</td><td>1.0</td><td>0.5</td><td>3.28</td><td>0.0</td><td>1.0</td><td>19.68</td><td>2.5</td><td>0.0</td></tr></tbody></table></div>"
      ]
     },
     "metadata": {
      "application/vnd.databricks.v1+output": {
       "addedWidgets": {},
       "arguments": {},
       "data": "<div><style>\n.dataframe > thead > tr,\n.dataframe > tbody > tr {\n  text-align: right;\n  white-space: pre-wrap;\n}\n</style>\n<small>shape: (5, 19)</small><table border=\"1\" class=\"dataframe\"><thead><tr><th>VendorID</th><th>tpep_pickup_datetime</th><th>tpep_dropoff_datetime</th><th>passenger_count</th><th>trip_distance</th><th>RatecodeID</th><th>store_and_fwd_flag</th><th>PULocationID</th><th>DOLocationID</th><th>payment_type</th><th>fare_amount</th><th>extra</th><th>mta_tax</th><th>tip_amount</th><th>tolls_amount</th><th>improvement_surcharge</th><th>total_amount</th><th>congestion_surcharge</th><th>airport_fee</th></tr><tr><td>i64</td><td>datetime[ns]</td><td>datetime[ns]</td><td>f64</td><td>f64</td><td>f64</td><td>str</td><td>i64</td><td>i64</td><td>i64</td><td>f64</td><td>f64</td><td>f64</td><td>f64</td><td>f64</td><td>f64</td><td>f64</td><td>f64</td><td>f64</td></tr></thead><tbody><tr><td>2</td><td>2023-01-01 00:32:10</td><td>2023-01-01 00:40:36</td><td>1.0</td><td>0.97</td><td>1.0</td><td>&quot;N&quot;</td><td>161</td><td>141</td><td>2</td><td>9.3</td><td>1.0</td><td>0.5</td><td>0.0</td><td>0.0</td><td>1.0</td><td>14.3</td><td>2.5</td><td>0.0</td></tr><tr><td>2</td><td>2023-01-01 00:55:08</td><td>2023-01-01 01:01:27</td><td>1.0</td><td>1.1</td><td>1.0</td><td>&quot;N&quot;</td><td>43</td><td>237</td><td>1</td><td>7.9</td><td>1.0</td><td>0.5</td><td>4.0</td><td>0.0</td><td>1.0</td><td>16.9</td><td>2.5</td><td>0.0</td></tr><tr><td>2</td><td>2023-01-01 00:25:04</td><td>2023-01-01 00:37:49</td><td>1.0</td><td>2.51</td><td>1.0</td><td>&quot;N&quot;</td><td>48</td><td>238</td><td>1</td><td>14.9</td><td>1.0</td><td>0.5</td><td>15.0</td><td>0.0</td><td>1.0</td><td>34.9</td><td>2.5</td><td>0.0</td></tr><tr><td>1</td><td>2023-01-01 00:03:48</td><td>2023-01-01 00:13:25</td><td>0.0</td><td>1.9</td><td>1.0</td><td>&quot;N&quot;</td><td>138</td><td>7</td><td>1</td><td>12.1</td><td>7.25</td><td>0.5</td><td>0.0</td><td>0.0</td><td>1.0</td><td>20.85</td><td>0.0</td><td>1.25</td></tr><tr><td>2</td><td>2023-01-01 00:10:29</td><td>2023-01-01 00:21:19</td><td>1.0</td><td>1.43</td><td>1.0</td><td>&quot;N&quot;</td><td>107</td><td>79</td><td>1</td><td>11.4</td><td>1.0</td><td>0.5</td><td>3.28</td><td>0.0</td><td>1.0</td><td>19.68</td><td>2.5</td><td>0.0</td></tr></tbody></table></div>",
       "datasetInfos": [],
       "metadata": {},
       "removedWidgets": [],
       "textData": null,
       "type": "htmlSandbox"
      }
     },
     "output_type": "display_data"
    }
   ],
   "source": [
    "polars_data = pl.from_pandas(pandas_data)\n",
    "polars_benchmarks = {\n",
    "    'duration': [],  # in seconds\n",
    "    'task': [],\n",
    "}\n",
    "polars_data.head()"
   ]
  },
  {
   "cell_type": "code",
   "execution_count": 0,
   "metadata": {
    "application/vnd.databricks.v1+cell": {
     "cellMetadata": {
      "byteLimit": 2048000,
      "rowLimit": 10000
     },
     "inputWidgets": {},
     "nuid": "ca3e572c-5d1d-4815-be1f-cb1c914bda73",
     "showTitle": false,
     "title": ""
    }
   },
   "outputs": [
    {
     "output_type": "stream",
     "name": "stderr",
     "output_type": "stream",
     "text": [
      "<command-1433832980640705>:53: DeprecationWarning: `groupby` is deprecated. It has been renamed to `group_by`.\n  result = df.groupby(\"passenger_count\").agg([\n"
     ]
    }
   ],
   "source": [
    "def read_file_parquet():\n",
    "    return pl.read_parquet(\"/FileStore/tables/yellow_tripdata_2023_01.parquet\")\n",
    "\n",
    "def count(df):\n",
    "    return df.height\n",
    "\n",
    "def count_index_length(df):\n",
    "    return df.shape[0]\n",
    "\n",
    "def mean(df):\n",
    "    return df.select(pl.col(\"fare_amount\").mean()).to_numpy().item()\n",
    "\n",
    "def standard_deviation(df):\n",
    "    return df.select(pl.col(\"fare_amount\").std()).to_numpy().item()\n",
    "\n",
    "def mean_of_sum(df):\n",
    "    return df.with_columns((pl.col(\"fare_amount\") + pl.col(\"tip_amount\")).alias(\"sum\")).select(pl.col(\"sum\").mean()).to_numpy().item()\n",
    "\n",
    "def sum_columns(df):\n",
    "    return df.with_columns((pl.col(\"fare_amount\") + pl.col(\"tip_amount\")).alias(\"sum\"))[\"sum\"]\n",
    "\n",
    "def mean_of_product(df):\n",
    "    return df.with_columns((pl.col(\"fare_amount\") * pl.col(\"tip_amount\")).alias(\"product\")).select(pl.col(\"product\").mean()).to_numpy().item()\n",
    "\n",
    "def product_columns(df):\n",
    "    return df.with_columns((pl.col(\"fare_amount\") * pl.col(\"tip_amount\")).alias(\"product\"))[\"product\"]\n",
    "\n",
    "def value_counts(df):\n",
    "    # return df.select(pl.col(\"fare_amount\")).value_counts()\n",
    "    return df.groupby(\"fare_amount\").agg(pl.col(\"fare_amount\").count().alias(\"counts\")).sort(\"counts\")\n",
    "\n",
    "def mean_of_complicated_arithmetic_operation(df):\n",
    "    theta_1 = df[\"start_lon\"]\n",
    "    phi_1 = df[\"start_lat\"]\n",
    "    theta_2 = df[\"end_lon\"]\n",
    "    phi_2 = df[\"end_lat\"]\n",
    "    temp = (np.sin((theta_2 - theta_1) / 2 * np.pi / 180)**2 +\n",
    "            np.cos(theta_1 * np.pi / 180) * np.cos(theta_2 * np.pi / 180) * np.sin((phi_2 - phi_1) / 2 * np.pi / 180)**2)\n",
    "    ret = 2 * np.arctan2(np.sqrt(temp), np.sqrt(1 - temp))\n",
    "    return pl.Series(ret).mean()\n",
    "\n",
    "def complicated_arithmetic_operation(df):\n",
    "    theta_1 = df[\"start_lon\"]\n",
    "    phi_1 = df[\"start_lat\"]\n",
    "    theta_2 = df[\"end_lon\"]\n",
    "    phi_2 = df[\"end_lat\"]\n",
    "    temp = (np.sin((theta_2 - theta_1) / 2 * np.pi / 180)**2 +\n",
    "            np.cos(theta_1 * np.pi / 180) * np.cos(theta_2 * np.pi / 180) * np.sin((phi_2 - phi_1) / 2 * np.pi / 180)**2)\n",
    "    ret = 2 * np.arctan2(np.sqrt(temp), np.sqrt(1 - temp))\n",
    "    return ret\n",
    "\n",
    "def groupby_statistics(df):\n",
    "    result = df.groupby(\"passenger_count\").agg([\n",
    "        pl.col(\"fare_amount\").mean().alias(\"fare_amount_mean\"),\n",
    "        pl.col(\"fare_amount\").std().alias(\"fare_amount_std\"),\n",
    "        pl.col(\"tip_amount\").mean().alias(\"tip_amount_mean\"),\n",
    "        pl.col(\"tip_amount\").std().alias(\"tip_amount_std\")\n",
    "    ])\n",
    "    return result\n",
    "\n",
    "# other = groupby_statistics(polars_data)\n",
    "# other.columns = pd.Index([e[0]+'_' + e[1] for e in other.columns.tolist()])\n",
    "\n",
    "other = groupby_statistics(polars_data)\n",
    "# other.columns = [\"_\".join(col) for col in other.columns]\n",
    "# other.columns = new_column_names\n",
    "# other.columns = [e[0]+'_' + e[1] for e in other.columns]\n",
    "\n",
    "def join_count(df, other):\n",
    "    # return df.join(other, left_on=\"index\", right_on=\"index\", how=\"inner\").shape[0]\n",
    "    return df.join(other, on=\"passenger_count\", how=\"inner\").shape[0]\n",
    "\n",
    "def join_data(df, other):\n",
    "    # return df.join(other, left_on=\"index\", right_on=\"index\", how=\"inner\")\n",
    "    return df.join(other, on=\"passenger_count\", how=\"inner\")"
   ]
  },
  {
   "cell_type": "code",
   "execution_count": 0,
   "metadata": {
    "application/vnd.databricks.v1+cell": {
     "cellMetadata": {
      "byteLimit": 2048000,
      "rowLimit": 10000
     },
     "inputWidgets": {},
     "nuid": "670bbe61-d0b1-4cc6-9c3e-560f24e29f17",
     "showTitle": false,
     "title": ""
    }
   },
   "outputs": [
    {
     "output_type": "stream",
     "name": "stdout",
     "output_type": "stream",
     "text": [
      "count took: 1.1444091796875e-05 seconds\ncount index length took: 6.9141387939453125e-06 seconds\nmean took: 0.00504302978515625 seconds\nstandard deviation took: 0.02655029296875 seconds\nmean of columns addition took: 0.022109270095825195 seconds\naddition of columns took: 0.01756119728088379 seconds\nmean of columns multiplication took: 0.02166128158569336 seconds\nmultiplication of columns took: 0.01741814613342285 seconds\nvalue counts took: 0.08829426765441895 seconds\n"
     ]
    },
    {
     "output_type": "stream",
     "name": "stderr",
     "output_type": "stream",
     "text": [
      "<command-1433832980640705>:30: DeprecationWarning: `groupby` is deprecated. It has been renamed to `group_by`.\n  return df.groupby(\"fare_amount\").agg(pl.col(\"fare_amount\").count().alias(\"counts\")).sort(\"counts\")\n<command-1433832980640705>:53: DeprecationWarning: `groupby` is deprecated. It has been renamed to `group_by`.\n  result = df.groupby(\"passenger_count\").agg([\n"
     ]
    },
    {
     "output_type": "stream",
     "name": "stdout",
     "output_type": "stream",
     "text": [
      "groupby statistics took: 0.1468656063079834 seconds\njoin count took: 1.7630863189697266 seconds\njoin took: 0.5437631607055664 seconds\nOut[5]: 0.5437631607055664"
     ]
    }
   ],
   "source": [
    "#benchmark(read_file_parquet, df=None, benchmarks=dask_benchmarks, name='read file')\n",
    "benchmark(count, df=polars_data, benchmarks=polars_benchmarks, name='count')\n",
    "benchmark(count_index_length, df=polars_data, benchmarks=polars_benchmarks, name='count index length')\n",
    "benchmark(mean, df=polars_data, benchmarks=polars_benchmarks, name='mean')\n",
    "benchmark(standard_deviation, df=polars_data, benchmarks=polars_benchmarks, name='standard deviation')\n",
    "benchmark(mean_of_sum, df=polars_data, benchmarks=polars_benchmarks, name='mean of columns addition')\n",
    "benchmark(sum_columns, df=polars_data, benchmarks=polars_benchmarks, name='addition of columns')\n",
    "benchmark(mean_of_product, df=polars_data, benchmarks=polars_benchmarks, name='mean of columns multiplication')\n",
    "benchmark(product_columns, df=polars_data, benchmarks=polars_benchmarks, name='multiplication of columns')\n",
    "benchmark(value_counts, df=polars_data, benchmarks=polars_benchmarks, name='value counts')\n",
    "# No column for this\n",
    "# benchmark(mean_of_complicated_arithmetic_operation, df=dask_data, benchmarks=dask_benchmarks, name='mean of complex arithmetic ops')\n",
    "# benchmark(complicated_arithmetic_operation, df=dask_data, benchmarks=dask_benchmarks, name='complex arithmetic ops')\n",
    "benchmark(groupby_statistics, df=polars_data, benchmarks=polars_benchmarks, name='groupby statistics')\n",
    "benchmark(join_count, polars_data, benchmarks=polars_benchmarks, name='join count', other=other)\n",
    "benchmark(join_data, polars_data, benchmarks=polars_benchmarks, name='join', other=other) # cant join"
   ]
  },
  {
   "cell_type": "markdown",
   "metadata": {
    "application/vnd.databricks.v1+cell": {
     "cellMetadata": {
      "byteLimit": 2048000,
      "rowLimit": 10000
     },
     "inputWidgets": {},
     "nuid": "c5a41815-a460-4436-9003-88cf1dd54949",
     "showTitle": false,
     "title": ""
    }
   },
   "source": [
    "Operations with filtering"
   ]
  },
  {
   "cell_type": "code",
   "execution_count": 0,
   "metadata": {
    "application/vnd.databricks.v1+cell": {
     "cellMetadata": {
      "byteLimit": 2048000,
      "rowLimit": 10000
     },
     "inputWidgets": {},
     "nuid": "bb148a69-1641-4d14-b180-781f07b60833",
     "showTitle": false,
     "title": ""
    }
   },
   "outputs": [],
   "source": [
    "expr_filter = (polars_data[\"tip_amount\"] >= 1) & (polars_data[\"tip_amount\"] <= 5)\n",
    "\n",
    "def filter_data(df):\n",
    "    return df.filter(expr_filter)\n",
    "  \n",
    "polars_filtered = filter_data(polars_data)"
   ]
  },
  {
   "cell_type": "code",
   "execution_count": 0,
   "metadata": {
    "application/vnd.databricks.v1+cell": {
     "cellMetadata": {
      "byteLimit": 2048000,
      "rowLimit": 10000
     },
     "inputWidgets": {},
     "nuid": "efd5c38f-958f-4183-8113-61e2bf7f300b",
     "showTitle": false,
     "title": ""
    }
   },
   "outputs": [
    {
     "output_type": "stream",
     "name": "stdout",
     "output_type": "stream",
     "text": [
      "filtered count took: 1.1920928955078125e-05 seconds\nfiltered count index length took: 8.821487426757812e-06 seconds\nfiltered mean took: 0.017596006393432617 seconds\nfiltered standard deviation took: 0.013469696044921875 seconds\nfiltered mean of columns addition took: 0.014718055725097656 seconds\nfiltered addition of columns took: 0.01087045669555664 seconds\nfiltered mean of columns multiplication took: 0.013991832733154297 seconds\nfiltered multiplication of columns took: 0.010532617568969727 seconds\nfiltered value counts took: 0.04606461524963379 seconds\n"
     ]
    },
    {
     "output_type": "stream",
     "name": "stderr",
     "output_type": "stream",
     "text": [
      "<command-1433832980640705>:30: DeprecationWarning: `groupby` is deprecated. It has been renamed to `group_by`.\n  return df.groupby(\"fare_amount\").agg(pl.col(\"fare_amount\").count().alias(\"counts\")).sort(\"counts\")\n<command-1433832980640705>:53: DeprecationWarning: `groupby` is deprecated. It has been renamed to `group_by`.\n  result = df.groupby(\"passenger_count\").agg([\n"
     ]
    },
    {
     "output_type": "stream",
     "name": "stdout",
     "output_type": "stream",
     "text": [
      "filtered groupby statistics took: 0.07742929458618164 seconds\nfiltered join count took: 0.4343430995941162 seconds\nfiltered join took: 0.37726569175720215 seconds\nOut[7]: 0.37726569175720215"
     ]
    }
   ],
   "source": [
    "benchmark(count, polars_filtered, benchmarks=polars_benchmarks, name='filtered count')\n",
    "benchmark(count_index_length, polars_filtered, benchmarks=polars_benchmarks, name='filtered count index length')\n",
    "benchmark(mean, polars_filtered, benchmarks=polars_benchmarks, name='filtered mean')\n",
    "benchmark(standard_deviation, polars_filtered, benchmarks=polars_benchmarks, name='filtered standard deviation')\n",
    "benchmark(mean_of_sum, polars_filtered, benchmarks=polars_benchmarks, name ='filtered mean of columns addition')\n",
    "benchmark(sum_columns, df=polars_filtered, benchmarks=polars_benchmarks, name='filtered addition of columns')\n",
    "benchmark(mean_of_product, polars_filtered, benchmarks=polars_benchmarks, name ='filtered mean of columns multiplication')\n",
    "benchmark(product_columns, df=polars_filtered, benchmarks=polars_benchmarks, name='filtered multiplication of columns')\n",
    "#benchmark(mean_of_complicated_arithmetic_operation, dask_filtered, benchmarks=dask_benchmarks, name='filtered mean of complex arithmetic ops')\n",
    "#benchmark(complicated_arithmetic_operation, dask_filtered, benchmarks=dask_benchmarks, name='filtered complex arithmetic ops')\n",
    "benchmark(value_counts, polars_filtered, benchmarks=polars_benchmarks, name ='filtered value counts')\n",
    "benchmark(groupby_statistics, polars_filtered, benchmarks=polars_benchmarks, name='filtered groupby statistics')\n",
    "\n",
    "# other = groupby_statistics(polars_filtered)\n",
    "# other.columns = pd.Index([e[0]+'_' + e[1] for e in other.columns.tolist()])\n",
    "other = groupby_statistics(polars_data)\n",
    "\n",
    "benchmark(join_count, polars_filtered, benchmarks=polars_benchmarks, name='filtered join count', other=other)\n",
    "benchmark(join_data, polars_filtered, benchmarks=polars_benchmarks, name='filtered join', other=other)"
   ]
  },
  {
   "cell_type": "code",
   "execution_count": 0,
   "metadata": {
    "application/vnd.databricks.v1+cell": {
     "cellMetadata": {
      "byteLimit": 2048000,
      "rowLimit": 10000
     },
     "inputWidgets": {},
     "nuid": "714dad1d-fa8c-4d80-8e9e-55af7ed7c83a",
     "showTitle": false,
     "title": ""
    }
   },
   "outputs": [
    {
     "output_type": "display_data",
     "data": {
      "text/html": [
       "<div>\n",
       "<style scoped>\n",
       "    .dataframe tbody tr th:only-of-type {\n",
       "        vertical-align: middle;\n",
       "    }\n",
       "\n",
       "    .dataframe tbody tr th {\n",
       "        vertical-align: top;\n",
       "    }\n",
       "\n",
       "    .dataframe thead th {\n",
       "        text-align: right;\n",
       "    }\n",
       "</style>\n",
       "<table border=\"1\" class=\"dataframe\">\n",
       "  <thead>\n",
       "    <tr style=\"text-align: right;\">\n",
       "      <th></th>\n",
       "      <th>duration</th>\n",
       "    </tr>\n",
       "    <tr>\n",
       "      <th>task</th>\n",
       "      <th></th>\n",
       "    </tr>\n",
       "  </thead>\n",
       "  <tbody>\n",
       "    <tr>\n",
       "      <th>count</th>\n",
       "      <td>0.000011</td>\n",
       "    </tr>\n",
       "    <tr>\n",
       "      <th>count index length</th>\n",
       "      <td>0.000007</td>\n",
       "    </tr>\n",
       "    <tr>\n",
       "      <th>mean</th>\n",
       "      <td>0.005043</td>\n",
       "    </tr>\n",
       "    <tr>\n",
       "      <th>standard deviation</th>\n",
       "      <td>0.026550</td>\n",
       "    </tr>\n",
       "    <tr>\n",
       "      <th>mean of columns addition</th>\n",
       "      <td>0.022109</td>\n",
       "    </tr>\n",
       "    <tr>\n",
       "      <th>addition of columns</th>\n",
       "      <td>0.017561</td>\n",
       "    </tr>\n",
       "    <tr>\n",
       "      <th>mean of columns multiplication</th>\n",
       "      <td>0.021661</td>\n",
       "    </tr>\n",
       "    <tr>\n",
       "      <th>multiplication of columns</th>\n",
       "      <td>0.017418</td>\n",
       "    </tr>\n",
       "    <tr>\n",
       "      <th>value counts</th>\n",
       "      <td>0.088294</td>\n",
       "    </tr>\n",
       "    <tr>\n",
       "      <th>groupby statistics</th>\n",
       "      <td>0.146866</td>\n",
       "    </tr>\n",
       "    <tr>\n",
       "      <th>join count</th>\n",
       "      <td>1.763086</td>\n",
       "    </tr>\n",
       "    <tr>\n",
       "      <th>join</th>\n",
       "      <td>0.543763</td>\n",
       "    </tr>\n",
       "    <tr>\n",
       "      <th>filtered count</th>\n",
       "      <td>0.000012</td>\n",
       "    </tr>\n",
       "    <tr>\n",
       "      <th>filtered count index length</th>\n",
       "      <td>0.000009</td>\n",
       "    </tr>\n",
       "    <tr>\n",
       "      <th>filtered mean</th>\n",
       "      <td>0.017596</td>\n",
       "    </tr>\n",
       "    <tr>\n",
       "      <th>filtered standard deviation</th>\n",
       "      <td>0.013470</td>\n",
       "    </tr>\n",
       "    <tr>\n",
       "      <th>filtered mean of columns addition</th>\n",
       "      <td>0.014718</td>\n",
       "    </tr>\n",
       "    <tr>\n",
       "      <th>filtered addition of columns</th>\n",
       "      <td>0.010870</td>\n",
       "    </tr>\n",
       "    <tr>\n",
       "      <th>filtered mean of columns multiplication</th>\n",
       "      <td>0.013992</td>\n",
       "    </tr>\n",
       "    <tr>\n",
       "      <th>filtered multiplication of columns</th>\n",
       "      <td>0.010533</td>\n",
       "    </tr>\n",
       "    <tr>\n",
       "      <th>filtered value counts</th>\n",
       "      <td>0.046065</td>\n",
       "    </tr>\n",
       "    <tr>\n",
       "      <th>filtered groupby statistics</th>\n",
       "      <td>0.077429</td>\n",
       "    </tr>\n",
       "    <tr>\n",
       "      <th>filtered join count</th>\n",
       "      <td>0.434343</td>\n",
       "    </tr>\n",
       "    <tr>\n",
       "      <th>filtered join</th>\n",
       "      <td>0.377266</td>\n",
       "    </tr>\n",
       "  </tbody>\n",
       "</table>\n",
       "</div>"
      ]
     },
     "metadata": {
      "application/vnd.databricks.v1+output": {
       "addedWidgets": {},
       "arguments": {},
       "data": "<div>\n<style scoped>\n    .dataframe tbody tr th:only-of-type {\n        vertical-align: middle;\n    }\n\n    .dataframe tbody tr th {\n        vertical-align: top;\n    }\n\n    .dataframe thead th {\n        text-align: right;\n    }\n</style>\n<table border=\"1\" class=\"dataframe\">\n  <thead>\n    <tr style=\"text-align: right;\">\n      <th></th>\n      <th>duration</th>\n    </tr>\n    <tr>\n      <th>task</th>\n      <th></th>\n    </tr>\n  </thead>\n  <tbody>\n    <tr>\n      <th>count</th>\n      <td>0.000011</td>\n    </tr>\n    <tr>\n      <th>count index length</th>\n      <td>0.000007</td>\n    </tr>\n    <tr>\n      <th>mean</th>\n      <td>0.005043</td>\n    </tr>\n    <tr>\n      <th>standard deviation</th>\n      <td>0.026550</td>\n    </tr>\n    <tr>\n      <th>mean of columns addition</th>\n      <td>0.022109</td>\n    </tr>\n    <tr>\n      <th>addition of columns</th>\n      <td>0.017561</td>\n    </tr>\n    <tr>\n      <th>mean of columns multiplication</th>\n      <td>0.021661</td>\n    </tr>\n    <tr>\n      <th>multiplication of columns</th>\n      <td>0.017418</td>\n    </tr>\n    <tr>\n      <th>value counts</th>\n      <td>0.088294</td>\n    </tr>\n    <tr>\n      <th>groupby statistics</th>\n      <td>0.146866</td>\n    </tr>\n    <tr>\n      <th>join count</th>\n      <td>1.763086</td>\n    </tr>\n    <tr>\n      <th>join</th>\n      <td>0.543763</td>\n    </tr>\n    <tr>\n      <th>filtered count</th>\n      <td>0.000012</td>\n    </tr>\n    <tr>\n      <th>filtered count index length</th>\n      <td>0.000009</td>\n    </tr>\n    <tr>\n      <th>filtered mean</th>\n      <td>0.017596</td>\n    </tr>\n    <tr>\n      <th>filtered standard deviation</th>\n      <td>0.013470</td>\n    </tr>\n    <tr>\n      <th>filtered mean of columns addition</th>\n      <td>0.014718</td>\n    </tr>\n    <tr>\n      <th>filtered addition of columns</th>\n      <td>0.010870</td>\n    </tr>\n    <tr>\n      <th>filtered mean of columns multiplication</th>\n      <td>0.013992</td>\n    </tr>\n    <tr>\n      <th>filtered multiplication of columns</th>\n      <td>0.010533</td>\n    </tr>\n    <tr>\n      <th>filtered value counts</th>\n      <td>0.046065</td>\n    </tr>\n    <tr>\n      <th>filtered groupby statistics</th>\n      <td>0.077429</td>\n    </tr>\n    <tr>\n      <th>filtered join count</th>\n      <td>0.434343</td>\n    </tr>\n    <tr>\n      <th>filtered join</th>\n      <td>0.377266</td>\n    </tr>\n  </tbody>\n</table>\n</div>",
       "datasetInfos": [],
       "metadata": {},
       "removedWidgets": [],
       "textData": null,
       "type": "htmlSandbox"
      }
     },
     "output_type": "display_data"
    }
   ],
   "source": [
    "polars_res_temp = get_results(polars_benchmarks).set_index('task')\n",
    "polars_res_temp"
   ]
  },
  {
   "cell_type": "code",
   "execution_count": 0,
   "metadata": {
    "application/vnd.databricks.v1+cell": {
     "cellMetadata": {
      "byteLimit": 2048000,
      "rowLimit": 10000
     },
     "inputWidgets": {},
     "nuid": "57a4c294-909a-4fa1-a8ae-ec0b8543a80d",
     "showTitle": false,
     "title": ""
    }
   },
   "outputs": [],
   "source": []
  }
 ],
 "metadata": {
  "application/vnd.databricks.v1+notebook": {
   "dashboards": [],
   "environmentMetadata": null,
   "language": "python",
   "notebookMetadata": {
    "pythonIndentUnit": 4
   },
   "notebookName": "polars",
   "widgets": {}
  }
 },
 "nbformat": 4,
 "nbformat_minor": 0
}
