{
 "cells": [
  {
   "cell_type": "code",
   "execution_count": 0,
   "metadata": {
    "application/vnd.databricks.v1+cell": {
     "cellMetadata": {
      "byteLimit": 2048000,
      "rowLimit": 10000
     },
     "inputWidgets": {},
     "nuid": "f6a8c3f6-3cd7-4561-bd78-d3aca4faae54",
     "showTitle": false,
     "title": ""
    }
   },
   "outputs": [],
   "source": [
    "from pyspark.sql import SparkSession\n",
    "\n",
    "# Create a Spark session\n",
    "spark = SparkSession.builder \\\n",
    "    .appName(\"YourAppName\") \\\n",
    "    .getOrCreate()"
   ]
  },
  {
   "cell_type": "code",
   "execution_count": 0,
   "metadata": {
    "application/vnd.databricks.v1+cell": {
     "cellMetadata": {
      "byteLimit": 2048000,
      "rowLimit": 10000
     },
     "inputWidgets": {},
     "nuid": "ae48e76f-6b58-4d9d-b8d7-b299d394a3a1",
     "showTitle": false,
     "title": ""
    }
   },
   "outputs": [
    {
     "output_type": "stream",
     "name": "stdout",
     "output_type": "stream",
     "text": [
      "spark.databricks.io.cache.enabled is false\n"
     ]
    }
   ],
   "source": [
    "spark.conf.set(\"spark.databricks.io.cache.enabled\", \"false\")\n",
    "print(\"spark.databricks.io.cache.enabled is %s\" % spark.conf.get(\"spark.databricks.io.cache.enabled\"))"
   ]
  },
  {
   "cell_type": "code",
   "execution_count": 0,
   "metadata": {
    "application/vnd.databricks.v1+cell": {
     "cellMetadata": {
      "byteLimit": 2048000,
      "rowLimit": 10000
     },
     "inputWidgets": {},
     "nuid": "e0495b90-3a8a-4afd-9f28-20d59065c507",
     "showTitle": false,
     "title": ""
    }
   },
   "outputs": [
    {
     "output_type": "stream",
     "name": "stdout",
     "output_type": "stream",
     "text": [
      "Python interpreter will be restarted.\nRequirement already satisfied: vaex in /local_disk0/.ephemeral_nfs/envs/pythonEnv-bbe462d0-a30a-436a-9e5f-41d34878e747/lib/python3.9/site-packages (4.17.0)\nRequirement already satisfied: vaex-server~=0.9.0 in /local_disk0/.ephemeral_nfs/envs/pythonEnv-bbe462d0-a30a-436a-9e5f-41d34878e747/lib/python3.9/site-packages (from vaex) (0.9.0)\nRequirement already satisfied: vaex-hdf5<0.15,>=0.13.0 in /local_disk0/.ephemeral_nfs/envs/pythonEnv-bbe462d0-a30a-436a-9e5f-41d34878e747/lib/python3.9/site-packages (from vaex) (0.14.1)\nRequirement already satisfied: vaex-astro<0.10,>=0.9.3 in /local_disk0/.ephemeral_nfs/envs/pythonEnv-bbe462d0-a30a-436a-9e5f-41d34878e747/lib/python3.9/site-packages (from vaex) (0.9.3)\nRequirement already satisfied: vaex-viz<0.6,>=0.5.4 in /local_disk0/.ephemeral_nfs/envs/pythonEnv-bbe462d0-a30a-436a-9e5f-41d34878e747/lib/python3.9/site-packages (from vaex) (0.5.4)\nRequirement already satisfied: vaex-core~=4.17.1 in /local_disk0/.ephemeral_nfs/envs/pythonEnv-bbe462d0-a30a-436a-9e5f-41d34878e747/lib/python3.9/site-packages (from vaex) (4.17.1)\nRequirement already satisfied: vaex-jupyter<0.9,>=0.8.2 in /local_disk0/.ephemeral_nfs/envs/pythonEnv-bbe462d0-a30a-436a-9e5f-41d34878e747/lib/python3.9/site-packages (from vaex) (0.8.2)\nRequirement already satisfied: vaex-ml<0.19,>=0.18.3 in /local_disk0/.ephemeral_nfs/envs/pythonEnv-bbe462d0-a30a-436a-9e5f-41d34878e747/lib/python3.9/site-packages (from vaex) (0.18.3)\nRequirement already satisfied: astropy in /local_disk0/.ephemeral_nfs/envs/pythonEnv-bbe462d0-a30a-436a-9e5f-41d34878e747/lib/python3.9/site-packages (from vaex-astro<0.10,>=0.9.3->vaex) (6.0.1)\nRequirement already satisfied: tabulate>=0.8.3 in /local_disk0/.ephemeral_nfs/envs/pythonEnv-bbe462d0-a30a-436a-9e5f-41d34878e747/lib/python3.9/site-packages (from vaex-core~=4.17.1->vaex) (0.9.0)\nRequirement already satisfied: blake3 in /local_disk0/.ephemeral_nfs/envs/pythonEnv-bbe462d0-a30a-436a-9e5f-41d34878e747/lib/python3.9/site-packages (from vaex-core~=4.17.1->vaex) (0.4.1)\nRequirement already satisfied: pydantic>=1.8.0 in /local_disk0/.ephemeral_nfs/envs/pythonEnv-bbe462d0-a30a-436a-9e5f-41d34878e747/lib/python3.9/site-packages (from vaex-core~=4.17.1->vaex) (2.7.2)\nRequirement already satisfied: filelock in /usr/local/lib/python3.9/dist-packages (from vaex-core~=4.17.1->vaex) (3.9.0)\nRequirement already satisfied: frozendict!=2.2.0 in /local_disk0/.ephemeral_nfs/envs/pythonEnv-bbe462d0-a30a-436a-9e5f-41d34878e747/lib/python3.9/site-packages (from vaex-core~=4.17.1->vaex) (2.4.4)\nRequirement already satisfied: nest-asyncio>=1.3.3 in /databricks/python3/lib/python3.9/site-packages (from vaex-core~=4.17.1->vaex) (1.5.5)\nRequirement already satisfied: aplus in /local_disk0/.ephemeral_nfs/envs/pythonEnv-bbe462d0-a30a-436a-9e5f-41d34878e747/lib/python3.9/site-packages (from vaex-core~=4.17.1->vaex) (0.11.0)\nRequirement already satisfied: cloudpickle in /local_disk0/.ephemeral_nfs/envs/pythonEnv-bbe462d0-a30a-436a-9e5f-41d34878e747/lib/python3.9/site-packages (from vaex-core~=4.17.1->vaex) (3.0.0)\nRequirement already satisfied: numpy>=1.16 in /local_disk0/.ephemeral_nfs/envs/pythonEnv-bbe462d0-a30a-436a-9e5f-41d34878e747/lib/python3.9/site-packages (from vaex-core~=4.17.1->vaex) (1.26.4)\nRequirement already satisfied: progressbar2 in /local_disk0/.ephemeral_nfs/envs/pythonEnv-bbe462d0-a30a-436a-9e5f-41d34878e747/lib/python3.9/site-packages (from vaex-core~=4.17.1->vaex) (4.4.2)\nRequirement already satisfied: pandas in /local_disk0/.ephemeral_nfs/envs/pythonEnv-bbe462d0-a30a-436a-9e5f-41d34878e747/lib/python3.9/site-packages (from vaex-core~=4.17.1->vaex) (2.2.2)\nRequirement already satisfied: dask!=2022.4.0 in /local_disk0/.ephemeral_nfs/envs/pythonEnv-bbe462d0-a30a-436a-9e5f-41d34878e747/lib/python3.9/site-packages (from vaex-core~=4.17.1->vaex) (2024.5.1)\nRequirement already satisfied: pyarrow>=5.0.0 in /databricks/python3/lib/python3.9/site-packages (from vaex-core~=4.17.1->vaex) (7.0.0)\nRequirement already satisfied: rich in /local_disk0/.ephemeral_nfs/envs/pythonEnv-bbe462d0-a30a-436a-9e5f-41d34878e747/lib/python3.9/site-packages (from vaex-core~=4.17.1->vaex) (13.7.1)\nRequirement already satisfied: six in /databricks/python3/lib/python3.9/site-packages (from vaex-core~=4.17.1->vaex) (1.16.0)\nRequirement already satisfied: future>=0.15.2 in /local_disk0/.ephemeral_nfs/envs/pythonEnv-bbe462d0-a30a-436a-9e5f-41d34878e747/lib/python3.9/site-packages (from vaex-core~=4.17.1->vaex) (1.0.0)\nRequirement already satisfied: requests in /databricks/python3/lib/python3.9/site-packages (from vaex-core~=4.17.1->vaex) (2.27.1)\nRequirement already satisfied: pyyaml in /local_disk0/.ephemeral_nfs/envs/pythonEnv-bbe462d0-a30a-436a-9e5f-41d34878e747/lib/python3.9/site-packages (from vaex-core~=4.17.1->vaex) (6.0.1)\nRequirement already satisfied: packaging>=20.0 in /local_disk0/.ephemeral_nfs/envs/pythonEnv-bbe462d0-a30a-436a-9e5f-41d34878e747/lib/python3.9/site-packages (from dask!=2022.4.0->vaex-core~=4.17.1->vaex) (24.0)\nRequirement already satisfied: toolz>=0.10.0 in /local_disk0/.ephemeral_nfs/envs/pythonEnv-bbe462d0-a30a-436a-9e5f-41d34878e747/lib/python3.9/site-packages (from dask!=2022.4.0->vaex-core~=4.17.1->vaex) (0.12.1)\nRequirement already satisfied: importlib-metadata>=4.13.0 in /local_disk0/.ephemeral_nfs/envs/pythonEnv-bbe462d0-a30a-436a-9e5f-41d34878e747/lib/python3.9/site-packages (from dask!=2022.4.0->vaex-core~=4.17.1->vaex) (7.1.0)\nRequirement already satisfied: click>=8.1 in /local_disk0/.ephemeral_nfs/envs/pythonEnv-bbe462d0-a30a-436a-9e5f-41d34878e747/lib/python3.9/site-packages (from dask!=2022.4.0->vaex-core~=4.17.1->vaex) (8.1.7)\nRequirement already satisfied: fsspec>=2021.09.0 in /local_disk0/.ephemeral_nfs/envs/pythonEnv-bbe462d0-a30a-436a-9e5f-41d34878e747/lib/python3.9/site-packages (from dask!=2022.4.0->vaex-core~=4.17.1->vaex) (2024.5.0)\nRequirement already satisfied: partd>=1.2.0 in /local_disk0/.ephemeral_nfs/envs/pythonEnv-bbe462d0-a30a-436a-9e5f-41d34878e747/lib/python3.9/site-packages (from dask!=2022.4.0->vaex-core~=4.17.1->vaex) (1.4.2)\nRequirement already satisfied: zipp>=0.5 in /local_disk0/.ephemeral_nfs/envs/pythonEnv-bbe462d0-a30a-436a-9e5f-41d34878e747/lib/python3.9/site-packages (from importlib-metadata>=4.13.0->dask!=2022.4.0->vaex-core~=4.17.1->vaex) (3.19.1)\nRequirement already satisfied: locket in /local_disk0/.ephemeral_nfs/envs/pythonEnv-bbe462d0-a30a-436a-9e5f-41d34878e747/lib/python3.9/site-packages (from partd>=1.2.0->dask!=2022.4.0->vaex-core~=4.17.1->vaex) (1.0.0)\nRequirement already satisfied: annotated-types>=0.4.0 in /local_disk0/.ephemeral_nfs/envs/pythonEnv-bbe462d0-a30a-436a-9e5f-41d34878e747/lib/python3.9/site-packages (from pydantic>=1.8.0->vaex-core~=4.17.1->vaex) (0.7.0)\nRequirement already satisfied: typing-extensions>=4.6.1 in /local_disk0/.ephemeral_nfs/envs/pythonEnv-bbe462d0-a30a-436a-9e5f-41d34878e747/lib/python3.9/site-packages (from pydantic>=1.8.0->vaex-core~=4.17.1->vaex) (4.12.0)\nRequirement already satisfied: pydantic-core==2.18.3 in /local_disk0/.ephemeral_nfs/envs/pythonEnv-bbe462d0-a30a-436a-9e5f-41d34878e747/lib/python3.9/site-packages (from pydantic>=1.8.0->vaex-core~=4.17.1->vaex) (2.18.3)\nRequirement already satisfied: h5py>=2.9 in /local_disk0/.ephemeral_nfs/envs/pythonEnv-bbe462d0-a30a-436a-9e5f-41d34878e747/lib/python3.9/site-packages (from vaex-hdf5<0.15,>=0.13.0->vaex) (3.11.0)\nRequirement already satisfied: xarray in /local_disk0/.ephemeral_nfs/envs/pythonEnv-bbe462d0-a30a-436a-9e5f-41d34878e747/lib/python3.9/site-packages (from vaex-jupyter<0.9,>=0.8.2->vaex) (2024.5.0)\nRequirement already satisfied: ipyvolume>=0.4 in /local_disk0/.ephemeral_nfs/envs/pythonEnv-bbe462d0-a30a-436a-9e5f-41d34878e747/lib/python3.9/site-packages (from vaex-jupyter<0.9,>=0.8.2->vaex) (0.6.3)\nRequirement already satisfied: ipyleaflet in /local_disk0/.ephemeral_nfs/envs/pythonEnv-bbe462d0-a30a-436a-9e5f-41d34878e747/lib/python3.9/site-packages (from vaex-jupyter<0.9,>=0.8.2->vaex) (0.19.1)\nRequirement already satisfied: ipympl in /local_disk0/.ephemeral_nfs/envs/pythonEnv-bbe462d0-a30a-436a-9e5f-41d34878e747/lib/python3.9/site-packages (from vaex-jupyter<0.9,>=0.8.2->vaex) (0.9.4)\nRequirement already satisfied: ipyvuetify<2,>=1.2.2 in /local_disk0/.ephemeral_nfs/envs/pythonEnv-bbe462d0-a30a-436a-9e5f-41d34878e747/lib/python3.9/site-packages (from vaex-jupyter<0.9,>=0.8.2->vaex) (1.9.4)\nRequirement already satisfied: bqplot>=0.10.1 in /local_disk0/.ephemeral_nfs/envs/pythonEnv-bbe462d0-a30a-436a-9e5f-41d34878e747/lib/python3.9/site-packages (from vaex-jupyter<0.9,>=0.8.2->vaex) (0.12.43)\nRequirement already satisfied: traittypes>=0.0.6 in /local_disk0/.ephemeral_nfs/envs/pythonEnv-bbe462d0-a30a-436a-9e5f-41d34878e747/lib/python3.9/site-packages (from bqplot>=0.10.1->vaex-jupyter<0.9,>=0.8.2->vaex) (0.2.1)\nRequirement already satisfied: ipywidgets<9,>=7.5.0 in /databricks/python3/lib/python3.9/site-packages (from bqplot>=0.10.1->vaex-jupyter<0.9,>=0.8.2->vaex) (7.7.2)\nRequirement already satisfied: traitlets>=4.3.0 in /databricks/python3/lib/python3.9/site-packages (from bqplot>=0.10.1->vaex-jupyter<0.9,>=0.8.2->vaex) (5.1.1)\nRequirement already satisfied: ipyvue>=1.7.0 in /local_disk0/.ephemeral_nfs/envs/pythonEnv-bbe462d0-a30a-436a-9e5f-41d34878e747/lib/python3.9/site-packages (from ipyvolume>=0.4->vaex-jupyter<0.9,>=0.8.2->vaex) (1.11.1)\nRequirement already satisfied: Pillow in /databricks/python3/lib/python3.9/site-packages (from ipyvolume>=0.4->vaex-jupyter<0.9,>=0.8.2->vaex) (9.0.1)\nRequirement already satisfied: matplotlib in /databricks/python3/lib/python3.9/site-packages (from ipyvolume>=0.4->vaex-jupyter<0.9,>=0.8.2->vaex) (3.5.1)\nRequirement already satisfied: pythreejs>=2.4.0 in /local_disk0/.ephemeral_nfs/envs/pythonEnv-bbe462d0-a30a-436a-9e5f-41d34878e747/lib/python3.9/site-packages (from ipyvolume>=0.4->vaex-jupyter<0.9,>=0.8.2->vaex) (2.4.2)\nRequirement already satisfied: ipywebrtc in /local_disk0/.ephemeral_nfs/envs/pythonEnv-bbe462d0-a30a-436a-9e5f-41d34878e747/lib/python3.9/site-packages (from ipyvolume>=0.4->vaex-jupyter<0.9,>=0.8.2->vaex) (0.6.0)\nRequirement already satisfied: widgetsnbextension~=3.6.0 in /databricks/python3/lib/python3.9/site-packages (from ipywidgets<9,>=7.5.0->bqplot>=0.10.1->vaex-jupyter<0.9,>=0.8.2->vaex) (3.6.1)\nRequirement already satisfied: jupyterlab-widgets<3,>=1.0.0 in /databricks/python3/lib/python3.9/site-packages (from ipywidgets<9,>=7.5.0->bqplot>=0.10.1->vaex-jupyter<0.9,>=0.8.2->vaex) (1.0.0)\nRequirement already satisfied: ipython-genutils~=0.2.0 in /databricks/python3/lib/python3.9/site-packages (from ipywidgets<9,>=7.5.0->bqplot>=0.10.1->vaex-jupyter<0.9,>=0.8.2->vaex) (0.2.0)\nRequirement already satisfied: ipython>=4.0.0 in /databricks/python3/lib/python3.9/site-packages (from ipywidgets<9,>=7.5.0->bqplot>=0.10.1->vaex-jupyter<0.9,>=0.8.2->vaex) (8.5.0)\nRequirement already satisfied: ipykernel>=4.5.1 in /databricks/python3/lib/python3.9/site-packages (from ipywidgets<9,>=7.5.0->bqplot>=0.10.1->vaex-jupyter<0.9,>=0.8.2->vaex) (6.15.3)\nRequirement already satisfied: tornado>=6.1 in /databricks/python3/lib/python3.9/site-packages (from ipykernel>=4.5.1->ipywidgets<9,>=7.5.0->bqplot>=0.10.1->vaex-jupyter<0.9,>=0.8.2->vaex) (6.1)\nRequirement already satisfied: pyzmq>=17 in /databricks/python3/lib/python3.9/site-packages (from ipykernel>=4.5.1->ipywidgets<9,>=7.5.0->bqplot>=0.10.1->vaex-jupyter<0.9,>=0.8.2->vaex) (22.3.0)\nRequirement already satisfied: matplotlib-inline>=0.1 in /databricks/python3/lib/python3.9/site-packages (from ipykernel>=4.5.1->ipywidgets<9,>=7.5.0->bqplot>=0.10.1->vaex-jupyter<0.9,>=0.8.2->vaex) (0.1.2)\nRequirement already satisfied: jupyter-client>=6.1.12 in /databricks/python3/lib/python3.9/site-packages (from ipykernel>=4.5.1->ipywidgets<9,>=7.5.0->bqplot>=0.10.1->vaex-jupyter<0.9,>=0.8.2->vaex) (6.1.12)\nRequirement already satisfied: debugpy>=1.0 in /databricks/python3/lib/python3.9/site-packages (from ipykernel>=4.5.1->ipywidgets<9,>=7.5.0->bqplot>=0.10.1->vaex-jupyter<0.9,>=0.8.2->vaex) (1.5.1)\nRequirement already satisfied: psutil in /databricks/python3/lib/python3.9/site-packages (from ipykernel>=4.5.1->ipywidgets<9,>=7.5.0->bqplot>=0.10.1->vaex-jupyter<0.9,>=0.8.2->vaex) (5.8.0)\nRequirement already satisfied: prompt-toolkit<3.1.0,>3.0.1 in /databricks/python3/lib/python3.9/site-packages (from ipython>=4.0.0->ipywidgets<9,>=7.5.0->bqplot>=0.10.1->vaex-jupyter<0.9,>=0.8.2->vaex) (3.0.20)\nRequirement already satisfied: pygments>=2.4.0 in /local_disk0/.ephemeral_nfs/envs/pythonEnv-bbe462d0-a30a-436a-9e5f-41d34878e747/lib/python3.9/site-packages (from ipython>=4.0.0->ipywidgets<9,>=7.5.0->bqplot>=0.10.1->vaex-jupyter<0.9,>=0.8.2->vaex) (2.18.0)\nRequirement already satisfied: pexpect>4.3 in /databricks/python3/lib/python3.9/site-packages (from ipython>=4.0.0->ipywidgets<9,>=7.5.0->bqplot>=0.10.1->vaex-jupyter<0.9,>=0.8.2->vaex) (4.8.0)\nRequirement already satisfied: decorator in /databricks/python3/lib/python3.9/site-packages (from ipython>=4.0.0->ipywidgets<9,>=7.5.0->bqplot>=0.10.1->vaex-jupyter<0.9,>=0.8.2->vaex) (5.1.1)\nRequirement already satisfied: stack-data in /databricks/python3/lib/python3.9/site-packages (from ipython>=4.0.0->ipywidgets<9,>=7.5.0->bqplot>=0.10.1->vaex-jupyter<0.9,>=0.8.2->vaex) (0.2.0)\nRequirement already satisfied: backcall in /databricks/python3/lib/python3.9/site-packages (from ipython>=4.0.0->ipywidgets<9,>=7.5.0->bqplot>=0.10.1->vaex-jupyter<0.9,>=0.8.2->vaex) (0.2.0)\nRequirement already satisfied: jedi>=0.16 in /databricks/python3/lib/python3.9/site-packages (from ipython>=4.0.0->ipywidgets<9,>=7.5.0->bqplot>=0.10.1->vaex-jupyter<0.9,>=0.8.2->vaex) (0.18.1)\nRequirement already satisfied: pickleshare in /databricks/python3/lib/python3.9/site-packages (from ipython>=4.0.0->ipywidgets<9,>=7.5.0->bqplot>=0.10.1->vaex-jupyter<0.9,>=0.8.2->vaex) (0.7.5)\nRequirement already satisfied: parso<0.9.0,>=0.8.0 in /databricks/python3/lib/python3.9/site-packages (from jedi>=0.16->ipython>=4.0.0->ipywidgets<9,>=7.5.0->bqplot>=0.10.1->vaex-jupyter<0.9,>=0.8.2->vaex) (0.8.3)\nRequirement already satisfied: python-dateutil>=2.1 in /databricks/python3/lib/python3.9/site-packages (from jupyter-client>=6.1.12->ipykernel>=4.5.1->ipywidgets<9,>=7.5.0->bqplot>=0.10.1->vaex-jupyter<0.9,>=0.8.2->vaex) (2.8.2)\nRequirement already satisfied: jupyter-core>=4.6.0 in /databricks/python3/lib/python3.9/site-packages (from jupyter-client>=6.1.12->ipykernel>=4.5.1->ipywidgets<9,>=7.5.0->bqplot>=0.10.1->vaex-jupyter<0.9,>=0.8.2->vaex) (4.11.2)\nRequirement already satisfied: tzdata>=2022.7 in /local_disk0/.ephemeral_nfs/envs/pythonEnv-bbe462d0-a30a-436a-9e5f-41d34878e747/lib/python3.9/site-packages (from pandas->vaex-core~=4.17.1->vaex) (2024.1)\nRequirement already satisfied: pytz>=2020.1 in /databricks/python3/lib/python3.9/site-packages (from pandas->vaex-core~=4.17.1->vaex) (2021.3)\nRequirement already satisfied: ptyprocess>=0.5 in /databricks/python3/lib/python3.9/site-packages (from pexpect>4.3->ipython>=4.0.0->ipywidgets<9,>=7.5.0->bqplot>=0.10.1->vaex-jupyter<0.9,>=0.8.2->vaex) (0.7.0)\nRequirement already satisfied: wcwidth in /databricks/python3/lib/python3.9/site-packages (from prompt-toolkit<3.1.0,>3.0.1->ipython>=4.0.0->ipywidgets<9,>=7.5.0->bqplot>=0.10.1->vaex-jupyter<0.9,>=0.8.2->vaex) (0.2.5)\nRequirement already satisfied: ipydatawidgets>=1.1.1 in /local_disk0/.ephemeral_nfs/envs/pythonEnv-bbe462d0-a30a-436a-9e5f-41d34878e747/lib/python3.9/site-packages (from pythreejs>=2.4.0->ipyvolume>=0.4->vaex-jupyter<0.9,>=0.8.2->vaex) (4.3.5)\nRequirement already satisfied: numba in /local_disk0/.ephemeral_nfs/envs/pythonEnv-bbe462d0-a30a-436a-9e5f-41d34878e747/lib/python3.9/site-packages (from vaex-ml<0.19,>=0.18.3->vaex) (0.59.1)\nRequirement already satisfied: jinja2 in /local_disk0/.ephemeral_nfs/envs/pythonEnv-bbe462d0-a30a-436a-9e5f-41d34878e747/lib/python3.9/site-packages (from vaex-ml<0.19,>=0.18.3->vaex) (3.1.4)\nRequirement already satisfied: fastapi in /local_disk0/.ephemeral_nfs/envs/pythonEnv-bbe462d0-a30a-436a-9e5f-41d34878e747/lib/python3.9/site-packages (from vaex-server~=0.9.0->vaex) (0.111.0)\nRequirement already satisfied: uvicorn[standard] in /local_disk0/.ephemeral_nfs/envs/pythonEnv-bbe462d0-a30a-436a-9e5f-41d34878e747/lib/python3.9/site-packages (from vaex-server~=0.9.0->vaex) (0.30.0)\nRequirement already satisfied: cachetools in /local_disk0/.ephemeral_nfs/envs/pythonEnv-bbe462d0-a30a-436a-9e5f-41d34878e747/lib/python3.9/site-packages (from vaex-server~=0.9.0->vaex) (5.3.3)\nRequirement already satisfied: fonttools>=4.22.0 in /databricks/python3/lib/python3.9/site-packages (from matplotlib->ipyvolume>=0.4->vaex-jupyter<0.9,>=0.8.2->vaex) (4.25.0)\nRequirement already satisfied: kiwisolver>=1.0.1 in /databricks/python3/lib/python3.9/site-packages (from matplotlib->ipyvolume>=0.4->vaex-jupyter<0.9,>=0.8.2->vaex) (1.3.2)\nRequirement already satisfied: pyparsing>=2.2.1 in /databricks/python3/lib/python3.9/site-packages (from matplotlib->ipyvolume>=0.4->vaex-jupyter<0.9,>=0.8.2->vaex) (3.0.4)\nRequirement already satisfied: cycler>=0.10 in /databricks/python3/lib/python3.9/site-packages (from matplotlib->ipyvolume>=0.4->vaex-jupyter<0.9,>=0.8.2->vaex) (0.11.0)\nRequirement already satisfied: notebook>=4.4.1 in /databricks/python3/lib/python3.9/site-packages (from widgetsnbextension~=3.6.0->ipywidgets<9,>=7.5.0->bqplot>=0.10.1->vaex-jupyter<0.9,>=0.8.2->vaex) (6.4.8)\nRequirement already satisfied: argon2-cffi in /databricks/python3/lib/python3.9/site-packages (from notebook>=4.4.1->widgetsnbextension~=3.6.0->ipywidgets<9,>=7.5.0->bqplot>=0.10.1->vaex-jupyter<0.9,>=0.8.2->vaex) (21.3.0)\nRequirement already satisfied: nbconvert in /databricks/python3/lib/python3.9/site-packages (from notebook>=4.4.1->widgetsnbextension~=3.6.0->ipywidgets<9,>=7.5.0->bqplot>=0.10.1->vaex-jupyter<0.9,>=0.8.2->vaex) (6.4.4)\nRequirement already satisfied: prometheus-client in /databricks/python3/lib/python3.9/site-packages (from notebook>=4.4.1->widgetsnbextension~=3.6.0->ipywidgets<9,>=7.5.0->bqplot>=0.10.1->vaex-jupyter<0.9,>=0.8.2->vaex) (0.13.1)\nRequirement already satisfied: Send2Trash>=1.8.0 in /databricks/python3/lib/python3.9/site-packages (from notebook>=4.4.1->widgetsnbextension~=3.6.0->ipywidgets<9,>=7.5.0->bqplot>=0.10.1->vaex-jupyter<0.9,>=0.8.2->vaex) (1.8.0)\nRequirement already satisfied: terminado>=0.8.3 in /databricks/python3/lib/python3.9/site-packages (from notebook>=4.4.1->widgetsnbextension~=3.6.0->ipywidgets<9,>=7.5.0->bqplot>=0.10.1->vaex-jupyter<0.9,>=0.8.2->vaex) (0.13.1)\nRequirement already satisfied: nbformat in /databricks/python3/lib/python3.9/site-packages (from notebook>=4.4.1->widgetsnbextension~=3.6.0->ipywidgets<9,>=7.5.0->bqplot>=0.10.1->vaex-jupyter<0.9,>=0.8.2->vaex) (5.3.0)\nRequirement already satisfied: argon2-cffi-bindings in /databricks/python3/lib/python3.9/site-packages (from argon2-cffi->notebook>=4.4.1->widgetsnbextension~=3.6.0->ipywidgets<9,>=7.5.0->bqplot>=0.10.1->vaex-jupyter<0.9,>=0.8.2->vaex) (21.2.0)\nRequirement already satisfied: cffi>=1.0.1 in /databricks/python3/lib/python3.9/site-packages (from argon2-cffi-bindings->argon2-cffi->notebook>=4.4.1->widgetsnbextension~=3.6.0->ipywidgets<9,>=7.5.0->bqplot>=0.10.1->vaex-jupyter<0.9,>=0.8.2->vaex) (1.15.0)\nRequirement already satisfied: pycparser in /databricks/python3/lib/python3.9/site-packages (from cffi>=1.0.1->argon2-cffi-bindings->argon2-cffi->notebook>=4.4.1->widgetsnbextension~=3.6.0->ipywidgets<9,>=7.5.0->bqplot>=0.10.1->vaex-jupyter<0.9,>=0.8.2->vaex) (2.21)\nRequirement already satisfied: astropy-iers-data>=0.2024.2.26.0.28.55 in /local_disk0/.ephemeral_nfs/envs/pythonEnv-bbe462d0-a30a-436a-9e5f-41d34878e747/lib/python3.9/site-packages (from astropy->vaex-astro<0.10,>=0.9.3->vaex) (0.2024.5.27.0.30.8)\nRequirement already satisfied: pyerfa>=2.0.1.1 in /local_disk0/.ephemeral_nfs/envs/pythonEnv-bbe462d0-a30a-436a-9e5f-41d34878e747/lib/python3.9/site-packages (from astropy->vaex-astro<0.10,>=0.9.3->vaex) (2.0.1.4)\nRequirement already satisfied: orjson>=3.2.1 in /local_disk0/.ephemeral_nfs/envs/pythonEnv-bbe462d0-a30a-436a-9e5f-41d34878e747/lib/python3.9/site-packages (from fastapi->vaex-server~=0.9.0->vaex) (3.10.3)\nRequirement already satisfied: starlette<0.38.0,>=0.37.2 in /local_disk0/.ephemeral_nfs/envs/pythonEnv-bbe462d0-a30a-436a-9e5f-41d34878e747/lib/python3.9/site-packages (from fastapi->vaex-server~=0.9.0->vaex) (0.37.2)\nRequirement already satisfied: email_validator>=2.0.0 in /local_disk0/.ephemeral_nfs/envs/pythonEnv-bbe462d0-a30a-436a-9e5f-41d34878e747/lib/python3.9/site-packages (from fastapi->vaex-server~=0.9.0->vaex) (2.1.1)\nRequirement already satisfied: httpx>=0.23.0 in /local_disk0/.ephemeral_nfs/envs/pythonEnv-bbe462d0-a30a-436a-9e5f-41d34878e747/lib/python3.9/site-packages (from fastapi->vaex-server~=0.9.0->vaex) (0.27.0)\nRequirement already satisfied: python-multipart>=0.0.7 in /local_disk0/.ephemeral_nfs/envs/pythonEnv-bbe462d0-a30a-436a-9e5f-41d34878e747/lib/python3.9/site-packages (from fastapi->vaex-server~=0.9.0->vaex) (0.0.9)\nRequirement already satisfied: fastapi-cli>=0.0.2 in /local_disk0/.ephemeral_nfs/envs/pythonEnv-bbe462d0-a30a-436a-9e5f-41d34878e747/lib/python3.9/site-packages (from fastapi->vaex-server~=0.9.0->vaex) (0.0.4)\nRequirement already satisfied: ujson!=4.0.2,!=4.1.0,!=4.2.0,!=4.3.0,!=5.0.0,!=5.1.0,>=4.0.1 in /local_disk0/.ephemeral_nfs/envs/pythonEnv-bbe462d0-a30a-436a-9e5f-41d34878e747/lib/python3.9/site-packages (from fastapi->vaex-server~=0.9.0->vaex) (5.10.0)\nRequirement already satisfied: dnspython>=2.0.0 in /local_disk0/.ephemeral_nfs/envs/pythonEnv-bbe462d0-a30a-436a-9e5f-41d34878e747/lib/python3.9/site-packages (from email_validator>=2.0.0->fastapi->vaex-server~=0.9.0->vaex) (2.6.1)\nRequirement already satisfied: idna>=2.0.0 in /databricks/python3/lib/python3.9/site-packages (from email_validator>=2.0.0->fastapi->vaex-server~=0.9.0->vaex) (3.3)\nRequirement already satisfied: typer>=0.12.3 in /local_disk0/.ephemeral_nfs/envs/pythonEnv-bbe462d0-a30a-436a-9e5f-41d34878e747/lib/python3.9/site-packages (from fastapi-cli>=0.0.2->fastapi->vaex-server~=0.9.0->vaex) (0.12.3)\nRequirement already satisfied: httpcore==1.* in /local_disk0/.ephemeral_nfs/envs/pythonEnv-bbe462d0-a30a-436a-9e5f-41d34878e747/lib/python3.9/site-packages (from httpx>=0.23.0->fastapi->vaex-server~=0.9.0->vaex) (1.0.5)\nRequirement already satisfied: anyio in /local_disk0/.ephemeral_nfs/envs/pythonEnv-bbe462d0-a30a-436a-9e5f-41d34878e747/lib/python3.9/site-packages (from httpx>=0.23.0->fastapi->vaex-server~=0.9.0->vaex) (4.4.0)\nRequirement already satisfied: sniffio in /local_disk0/.ephemeral_nfs/envs/pythonEnv-bbe462d0-a30a-436a-9e5f-41d34878e747/lib/python3.9/site-packages (from httpx>=0.23.0->fastapi->vaex-server~=0.9.0->vaex) (1.3.1)\nRequirement already satisfied: certifi in /databricks/python3/lib/python3.9/site-packages (from httpx>=0.23.0->fastapi->vaex-server~=0.9.0->vaex) (2021.10.8)\nRequirement already satisfied: h11<0.15,>=0.13 in /local_disk0/.ephemeral_nfs/envs/pythonEnv-bbe462d0-a30a-436a-9e5f-41d34878e747/lib/python3.9/site-packages (from httpcore==1.*->httpx>=0.23.0->fastapi->vaex-server~=0.9.0->vaex) (0.14.0)\nRequirement already satisfied: MarkupSafe>=2.0 in /databricks/python3/lib/python3.9/site-packages (from jinja2->vaex-ml<0.19,>=0.18.3->vaex) (2.0.1)\nRequirement already satisfied: exceptiongroup>=1.0.2 in /local_disk0/.ephemeral_nfs/envs/pythonEnv-bbe462d0-a30a-436a-9e5f-41d34878e747/lib/python3.9/site-packages (from anyio->httpx>=0.23.0->fastapi->vaex-server~=0.9.0->vaex) (1.2.1)\nRequirement already satisfied: shellingham>=1.3.0 in /local_disk0/.ephemeral_nfs/envs/pythonEnv-bbe462d0-a30a-436a-9e5f-41d34878e747/lib/python3.9/site-packages (from typer>=0.12.3->fastapi-cli>=0.0.2->fastapi->vaex-server~=0.9.0->vaex) (1.5.4)\nRequirement already satisfied: markdown-it-py>=2.2.0 in /local_disk0/.ephemeral_nfs/envs/pythonEnv-bbe462d0-a30a-436a-9e5f-41d34878e747/lib/python3.9/site-packages (from rich->vaex-core~=4.17.1->vaex) (3.0.0)\nRequirement already satisfied: mdurl~=0.1 in /local_disk0/.ephemeral_nfs/envs/pythonEnv-bbe462d0-a30a-436a-9e5f-41d34878e747/lib/python3.9/site-packages (from markdown-it-py>=2.2.0->rich->vaex-core~=4.17.1->vaex) (0.1.2)\nRequirement already satisfied: websockets>=10.4 in /local_disk0/.ephemeral_nfs/envs/pythonEnv-bbe462d0-a30a-436a-9e5f-41d34878e747/lib/python3.9/site-packages (from uvicorn[standard]->vaex-server~=0.9.0->vaex) (12.0)\nRequirement already satisfied: uvloop!=0.15.0,!=0.15.1,>=0.14.0 in /local_disk0/.ephemeral_nfs/envs/pythonEnv-bbe462d0-a30a-436a-9e5f-41d34878e747/lib/python3.9/site-packages (from uvicorn[standard]->vaex-server~=0.9.0->vaex) (0.19.0)\nRequirement already satisfied: python-dotenv>=0.13 in /local_disk0/.ephemeral_nfs/envs/pythonEnv-bbe462d0-a30a-436a-9e5f-41d34878e747/lib/python3.9/site-packages (from uvicorn[standard]->vaex-server~=0.9.0->vaex) (1.0.1)\nRequirement already satisfied: httptools>=0.5.0 in /local_disk0/.ephemeral_nfs/envs/pythonEnv-bbe462d0-a30a-436a-9e5f-41d34878e747/lib/python3.9/site-packages (from uvicorn[standard]->vaex-server~=0.9.0->vaex) (0.6.1)\nRequirement already satisfied: watchfiles>=0.13 in /local_disk0/.ephemeral_nfs/envs/pythonEnv-bbe462d0-a30a-436a-9e5f-41d34878e747/lib/python3.9/site-packages (from uvicorn[standard]->vaex-server~=0.9.0->vaex) (0.22.0)\nRequirement already satisfied: jupyter-leaflet<0.20,>=0.19 in /local_disk0/.ephemeral_nfs/envs/pythonEnv-bbe462d0-a30a-436a-9e5f-41d34878e747/lib/python3.9/site-packages (from ipyleaflet->vaex-jupyter<0.9,>=0.8.2->vaex) (0.19.1)\nRequirement already satisfied: xyzservices>=2021.8.1 in /local_disk0/.ephemeral_nfs/envs/pythonEnv-bbe462d0-a30a-436a-9e5f-41d34878e747/lib/python3.9/site-packages (from ipyleaflet->vaex-jupyter<0.9,>=0.8.2->vaex) (2024.4.0)\nRequirement already satisfied: branca>=0.5.0 in /local_disk0/.ephemeral_nfs/envs/pythonEnv-bbe462d0-a30a-436a-9e5f-41d34878e747/lib/python3.9/site-packages (from ipyleaflet->vaex-jupyter<0.9,>=0.8.2->vaex) (0.7.2)\nRequirement already satisfied: pandocfilters>=1.4.1 in /databricks/python3/lib/python3.9/site-packages (from nbconvert->notebook>=4.4.1->widgetsnbextension~=3.6.0->ipywidgets<9,>=7.5.0->bqplot>=0.10.1->vaex-jupyter<0.9,>=0.8.2->vaex) (1.5.0)\nRequirement already satisfied: defusedxml in /databricks/python3/lib/python3.9/site-packages (from nbconvert->notebook>=4.4.1->widgetsnbextension~=3.6.0->ipywidgets<9,>=7.5.0->bqplot>=0.10.1->vaex-jupyter<0.9,>=0.8.2->vaex) (0.7.1)\nRequirement already satisfied: nbclient<0.6.0,>=0.5.0 in /databricks/python3/lib/python3.9/site-packages (from nbconvert->notebook>=4.4.1->widgetsnbextension~=3.6.0->ipywidgets<9,>=7.5.0->bqplot>=0.10.1->vaex-jupyter<0.9,>=0.8.2->vaex) (0.5.13)\nRequirement already satisfied: entrypoints>=0.2.2 in /databricks/python3/lib/python3.9/site-packages (from nbconvert->notebook>=4.4.1->widgetsnbextension~=3.6.0->ipywidgets<9,>=7.5.0->bqplot>=0.10.1->vaex-jupyter<0.9,>=0.8.2->vaex) (0.4)\nRequirement already satisfied: testpath in /databricks/python3/lib/python3.9/site-packages (from nbconvert->notebook>=4.4.1->widgetsnbextension~=3.6.0->ipywidgets<9,>=7.5.0->bqplot>=0.10.1->vaex-jupyter<0.9,>=0.8.2->vaex) (0.5.0)\nRequirement already satisfied: beautifulsoup4 in /databricks/python3/lib/python3.9/site-packages (from nbconvert->notebook>=4.4.1->widgetsnbextension~=3.6.0->ipywidgets<9,>=7.5.0->bqplot>=0.10.1->vaex-jupyter<0.9,>=0.8.2->vaex) (4.11.1)\nRequirement already satisfied: bleach in /databricks/python3/lib/python3.9/site-packages (from nbconvert->notebook>=4.4.1->widgetsnbextension~=3.6.0->ipywidgets<9,>=7.5.0->bqplot>=0.10.1->vaex-jupyter<0.9,>=0.8.2->vaex) (4.1.0)\nRequirement already satisfied: jupyterlab-pygments in /databricks/python3/lib/python3.9/site-packages (from nbconvert->notebook>=4.4.1->widgetsnbextension~=3.6.0->ipywidgets<9,>=7.5.0->bqplot>=0.10.1->vaex-jupyter<0.9,>=0.8.2->vaex) (0.1.2)\nRequirement already satisfied: mistune<2,>=0.8.1 in /databricks/python3/lib/python3.9/site-packages (from nbconvert->notebook>=4.4.1->widgetsnbextension~=3.6.0->ipywidgets<9,>=7.5.0->bqplot>=0.10.1->vaex-jupyter<0.9,>=0.8.2->vaex) (0.8.4)\nRequirement already satisfied: jsonschema>=2.6 in /databricks/python3/lib/python3.9/site-packages (from nbformat->notebook>=4.4.1->widgetsnbextension~=3.6.0->ipywidgets<9,>=7.5.0->bqplot>=0.10.1->vaex-jupyter<0.9,>=0.8.2->vaex) (4.4.0)\nRequirement already satisfied: fastjsonschema in /databricks/python3/lib/python3.9/site-packages (from nbformat->notebook>=4.4.1->widgetsnbextension~=3.6.0->ipywidgets<9,>=7.5.0->bqplot>=0.10.1->vaex-jupyter<0.9,>=0.8.2->vaex) (2.16.2)\nRequirement already satisfied: attrs>=17.4.0 in /databricks/python3/lib/python3.9/site-packages (from jsonschema>=2.6->nbformat->notebook>=4.4.1->widgetsnbextension~=3.6.0->ipywidgets<9,>=7.5.0->bqplot>=0.10.1->vaex-jupyter<0.9,>=0.8.2->vaex) (21.4.0)\nRequirement already satisfied: pyrsistent!=0.17.0,!=0.17.1,!=0.17.2,>=0.14.0 in /databricks/python3/lib/python3.9/site-packages (from jsonschema>=2.6->nbformat->notebook>=4.4.1->widgetsnbextension~=3.6.0->ipywidgets<9,>=7.5.0->bqplot>=0.10.1->vaex-jupyter<0.9,>=0.8.2->vaex) (0.18.0)\nRequirement already satisfied: soupsieve>1.2 in /databricks/python3/lib/python3.9/site-packages (from beautifulsoup4->nbconvert->notebook>=4.4.1->widgetsnbextension~=3.6.0->ipywidgets<9,>=7.5.0->bqplot>=0.10.1->vaex-jupyter<0.9,>=0.8.2->vaex) (2.3.1)\nRequirement already satisfied: webencodings in /databricks/python3/lib/python3.9/site-packages (from bleach->nbconvert->notebook>=4.4.1->widgetsnbextension~=3.6.0->ipywidgets<9,>=7.5.0->bqplot>=0.10.1->vaex-jupyter<0.9,>=0.8.2->vaex) (0.5.1)\nRequirement already satisfied: llvmlite<0.43,>=0.42.0dev0 in /local_disk0/.ephemeral_nfs/envs/pythonEnv-bbe462d0-a30a-436a-9e5f-41d34878e747/lib/python3.9/site-packages (from numba->vaex-ml<0.19,>=0.18.3->vaex) (0.42.0)\nRequirement already satisfied: python-utils>=3.8.1 in /local_disk0/.ephemeral_nfs/envs/pythonEnv-bbe462d0-a30a-436a-9e5f-41d34878e747/lib/python3.9/site-packages (from progressbar2->vaex-core~=4.17.1->vaex) (3.8.2)\nRequirement already satisfied: charset-normalizer~=2.0.0 in /databricks/python3/lib/python3.9/site-packages (from requests->vaex-core~=4.17.1->vaex) (2.0.4)\nRequirement already satisfied: urllib3<1.27,>=1.21.1 in /databricks/python3/lib/python3.9/site-packages (from requests->vaex-core~=4.17.1->vaex) (1.26.9)\nRequirement already satisfied: pure-eval in /databricks/python3/lib/python3.9/site-packages (from stack-data->ipython>=4.0.0->ipywidgets<9,>=7.5.0->bqplot>=0.10.1->vaex-jupyter<0.9,>=0.8.2->vaex) (0.2.2)\nRequirement already satisfied: asttokens in /databricks/python3/lib/python3.9/site-packages (from stack-data->ipython>=4.0.0->ipywidgets<9,>=7.5.0->bqplot>=0.10.1->vaex-jupyter<0.9,>=0.8.2->vaex) (2.0.5)\nRequirement already satisfied: executing in /databricks/python3/lib/python3.9/site-packages (from stack-data->ipython>=4.0.0->ipywidgets<9,>=7.5.0->bqplot>=0.10.1->vaex-jupyter<0.9,>=0.8.2->vaex) (0.8.3)\nPython interpreter will be restarted.\n"
     ]
    }
   ],
   "source": [
    "%pip install vaex"
   ]
  },
  {
   "cell_type": "code",
   "execution_count": 0,
   "metadata": {
    "application/vnd.databricks.v1+cell": {
     "cellMetadata": {
      "byteLimit": 2048000,
      "rowLimit": 10000
     },
     "inputWidgets": {},
     "nuid": "fdcd683f-6bb3-4420-9737-295ecc827b0f",
     "showTitle": false,
     "title": ""
    }
   },
   "outputs": [
    {
     "output_type": "display_data",
     "data": {
      "application/vnd.databricks.v1+bamboolib_hint": "{\"pd.DataFrames\": [], \"version\": \"0.0.1\"}",
      "text/plain": []
     },
     "metadata": {},
     "output_type": "display_data"
    },
    {
     "output_type": "stream",
     "name": "stdout",
     "output_type": "stream",
     "text": [
      "pandas version: 2.2.2\nnumpy version: 1.26.4\nvaex version: {'vaex': '4.17.0', 'vaex-core': '4.17.1', 'vaex-viz': '0.5.4', 'vaex-hdf5': '0.14.1', 'vaex-server': '0.9.0', 'vaex-astro': '0.9.3', 'vaex-jupyter': '0.8.2', 'vaex-ml': '0.18.3'}\npyarrow version: 7.0.0\npyspark version: 3.3.2.dev0\n"
     ]
    }
   ],
   "source": [
    "import pandas as pd\n",
    "import numpy as np\n",
    "import vaex\n",
    "\n",
    "print('pandas version: %s' % pd.__version__)\n",
    "\n",
    "print('numpy version: %s' % np.__version__)\n",
    "\n",
    "print('vaex version: %s' % vaex.__version__)\n",
    "\n",
    "import pyarrow\n",
    "print('pyarrow version: %s' % pyarrow.__version__)\n",
    "\n",
    "import pyspark\n",
    "print('pyspark version: %s' % pyspark.__version__)\n",
    "\n",
    "\n",
    "import time\n",
    "\n",
    "def benchmark(f, df, benchmarks, name, **kwargs):\n",
    "    \"\"\"Benchmark the given function against the given DataFrame.\n",
    "    \n",
    "    Parameters\n",
    "    ----------\n",
    "    f: function to benchmark\n",
    "    df: data frame\n",
    "    benchmarks: container for benchmark results\n",
    "    name: task name\n",
    "    \n",
    "    Returns\n",
    "    -------\n",
    "    Duration (in seconds) of the given operation\n",
    "    \"\"\"\n",
    "    start_time = time.time()\n",
    "    ret = f(df, **kwargs)\n",
    "    benchmarks['duration'].append(time.time() - start_time)\n",
    "    benchmarks['task'].append(name)\n",
    "    print(f\"{name} took: {benchmarks['duration'][-1]} seconds\")\n",
    "    return benchmarks['duration'][-1]\n",
    "\n",
    "def get_results(benchmarks):\n",
    "    \"\"\"Return a pandas DataFrame containing benchmark results.\"\"\"\n",
    "    return pd.DataFrame.from_dict(benchmarks)"
   ]
  },
  {
   "cell_type": "code",
   "execution_count": 0,
   "metadata": {
    "application/vnd.databricks.v1+cell": {
     "cellMetadata": {
      "byteLimit": 2048000,
      "rowLimit": 10000
     },
     "inputWidgets": {},
     "nuid": "c57b5386-33aa-4467-8188-c35d8e71f5de",
     "showTitle": false,
     "title": ""
    }
   },
   "outputs": [],
   "source": [
    "import pandas as pd\n",
    "\n",
    "file_path = \"/FileStore/tables/yellow_tripdata_2023_01.parquet\"\n",
    "#pandas_data = pd.read_parquet(file_path, engine=\"pyarrow\")\n",
    "pandas_data = spark.read.format('parquet').options(header='true').load(file_path).toPandas()"
   ]
  },
  {
   "cell_type": "code",
   "execution_count": 0,
   "metadata": {
    "application/vnd.databricks.v1+cell": {
     "cellMetadata": {
      "byteLimit": 2048000,
      "rowLimit": 10000
     },
     "inputWidgets": {},
     "nuid": "280411cb-69bc-4c1e-a19c-464e213307ed",
     "showTitle": false,
     "title": ""
    }
   },
   "outputs": [
    {
     "output_type": "display_data",
     "data": {
      "text/html": [
       "<table>\n",
       "<thead>\n",
       "<tr><th>#                            </th><th style=\"text-align: right;\">  VendorID</th><th>tpep_pickup_datetime         </th><th>tpep_dropoff_datetime        </th><th style=\"text-align: right;\">  passenger_count</th><th style=\"text-align: right;\">  trip_distance</th><th style=\"text-align: right;\">  RatecodeID</th><th>store_and_fwd_flag  </th><th style=\"text-align: right;\">  PULocationID</th><th style=\"text-align: right;\">  DOLocationID</th><th style=\"text-align: right;\">  payment_type</th><th style=\"text-align: right;\">  fare_amount</th><th style=\"text-align: right;\">  extra</th><th style=\"text-align: right;\">  mta_tax</th><th style=\"text-align: right;\">  tip_amount</th><th style=\"text-align: right;\">  tolls_amount</th><th style=\"text-align: right;\">  improvement_surcharge</th><th style=\"text-align: right;\">  total_amount</th><th style=\"text-align: right;\">  congestion_surcharge</th><th style=\"text-align: right;\">  airport_fee</th></tr>\n",
       "</thead>\n",
       "<tbody>\n",
       "<tr><td><i style='opacity: 0.6'>0</i></td><td style=\"text-align: right;\">         2</td><td>2023-01-01 00:32:10.000000000</td><td>2023-01-01 00:40:36.000000000</td><td style=\"text-align: right;\">                1</td><td style=\"text-align: right;\">           0.97</td><td style=\"text-align: right;\">           1</td><td>N                   </td><td style=\"text-align: right;\">           161</td><td style=\"text-align: right;\">           141</td><td style=\"text-align: right;\">             2</td><td style=\"text-align: right;\">          9.3</td><td style=\"text-align: right;\">   1   </td><td style=\"text-align: right;\">      0.5</td><td style=\"text-align: right;\">        0   </td><td style=\"text-align: right;\">             0</td><td style=\"text-align: right;\">                      1</td><td style=\"text-align: right;\">         14.3 </td><td style=\"text-align: right;\">                   2.5</td><td style=\"text-align: right;\">         0   </td></tr>\n",
       "<tr><td><i style='opacity: 0.6'>1</i></td><td style=\"text-align: right;\">         2</td><td>2023-01-01 00:55:08.000000000</td><td>2023-01-01 01:01:27.000000000</td><td style=\"text-align: right;\">                1</td><td style=\"text-align: right;\">           1.1 </td><td style=\"text-align: right;\">           1</td><td>N                   </td><td style=\"text-align: right;\">            43</td><td style=\"text-align: right;\">           237</td><td style=\"text-align: right;\">             1</td><td style=\"text-align: right;\">          7.9</td><td style=\"text-align: right;\">   1   </td><td style=\"text-align: right;\">      0.5</td><td style=\"text-align: right;\">        4   </td><td style=\"text-align: right;\">             0</td><td style=\"text-align: right;\">                      1</td><td style=\"text-align: right;\">         16.9 </td><td style=\"text-align: right;\">                   2.5</td><td style=\"text-align: right;\">         0   </td></tr>\n",
       "<tr><td><i style='opacity: 0.6'>2</i></td><td style=\"text-align: right;\">         2</td><td>2023-01-01 00:25:04.000000000</td><td>2023-01-01 00:37:49.000000000</td><td style=\"text-align: right;\">                1</td><td style=\"text-align: right;\">           2.51</td><td style=\"text-align: right;\">           1</td><td>N                   </td><td style=\"text-align: right;\">            48</td><td style=\"text-align: right;\">           238</td><td style=\"text-align: right;\">             1</td><td style=\"text-align: right;\">         14.9</td><td style=\"text-align: right;\">   1   </td><td style=\"text-align: right;\">      0.5</td><td style=\"text-align: right;\">       15   </td><td style=\"text-align: right;\">             0</td><td style=\"text-align: right;\">                      1</td><td style=\"text-align: right;\">         34.9 </td><td style=\"text-align: right;\">                   2.5</td><td style=\"text-align: right;\">         0   </td></tr>\n",
       "<tr><td><i style='opacity: 0.6'>3</i></td><td style=\"text-align: right;\">         1</td><td>2023-01-01 00:03:48.000000000</td><td>2023-01-01 00:13:25.000000000</td><td style=\"text-align: right;\">                0</td><td style=\"text-align: right;\">           1.9 </td><td style=\"text-align: right;\">           1</td><td>N                   </td><td style=\"text-align: right;\">           138</td><td style=\"text-align: right;\">             7</td><td style=\"text-align: right;\">             1</td><td style=\"text-align: right;\">         12.1</td><td style=\"text-align: right;\">   7.25</td><td style=\"text-align: right;\">      0.5</td><td style=\"text-align: right;\">        0   </td><td style=\"text-align: right;\">             0</td><td style=\"text-align: right;\">                      1</td><td style=\"text-align: right;\">         20.85</td><td style=\"text-align: right;\">                   0  </td><td style=\"text-align: right;\">         1.25</td></tr>\n",
       "<tr><td><i style='opacity: 0.6'>4</i></td><td style=\"text-align: right;\">         2</td><td>2023-01-01 00:10:29.000000000</td><td>2023-01-01 00:21:19.000000000</td><td style=\"text-align: right;\">                1</td><td style=\"text-align: right;\">           1.43</td><td style=\"text-align: right;\">           1</td><td>N                   </td><td style=\"text-align: right;\">           107</td><td style=\"text-align: right;\">            79</td><td style=\"text-align: right;\">             1</td><td style=\"text-align: right;\">         11.4</td><td style=\"text-align: right;\">   1   </td><td style=\"text-align: right;\">      0.5</td><td style=\"text-align: right;\">        3.28</td><td style=\"text-align: right;\">             0</td><td style=\"text-align: right;\">                      1</td><td style=\"text-align: right;\">         19.68</td><td style=\"text-align: right;\">                   2.5</td><td style=\"text-align: right;\">         0   </td></tr>\n",
       "<tr><td><i style='opacity: 0.6'>5</i></td><td style=\"text-align: right;\">         2</td><td>2023-01-01 00:50:34.000000000</td><td>2023-01-01 01:02:52.000000000</td><td style=\"text-align: right;\">                1</td><td style=\"text-align: right;\">           1.84</td><td style=\"text-align: right;\">           1</td><td>N                   </td><td style=\"text-align: right;\">           161</td><td style=\"text-align: right;\">           137</td><td style=\"text-align: right;\">             1</td><td style=\"text-align: right;\">         12.8</td><td style=\"text-align: right;\">   1   </td><td style=\"text-align: right;\">      0.5</td><td style=\"text-align: right;\">       10   </td><td style=\"text-align: right;\">             0</td><td style=\"text-align: right;\">                      1</td><td style=\"text-align: right;\">         27.8 </td><td style=\"text-align: right;\">                   2.5</td><td style=\"text-align: right;\">         0   </td></tr>\n",
       "<tr><td><i style='opacity: 0.6'>6</i></td><td style=\"text-align: right;\">         2</td><td>2023-01-01 00:09:22.000000000</td><td>2023-01-01 00:19:49.000000000</td><td style=\"text-align: right;\">                1</td><td style=\"text-align: right;\">           1.66</td><td style=\"text-align: right;\">           1</td><td>N                   </td><td style=\"text-align: right;\">           239</td><td style=\"text-align: right;\">           143</td><td style=\"text-align: right;\">             1</td><td style=\"text-align: right;\">         12.1</td><td style=\"text-align: right;\">   1   </td><td style=\"text-align: right;\">      0.5</td><td style=\"text-align: right;\">        3.42</td><td style=\"text-align: right;\">             0</td><td style=\"text-align: right;\">                      1</td><td style=\"text-align: right;\">         20.52</td><td style=\"text-align: right;\">                   2.5</td><td style=\"text-align: right;\">         0   </td></tr>\n",
       "<tr><td><i style='opacity: 0.6'>7</i></td><td style=\"text-align: right;\">         2</td><td>2023-01-01 00:27:12.000000000</td><td>2023-01-01 00:49:56.000000000</td><td style=\"text-align: right;\">                1</td><td style=\"text-align: right;\">          11.7 </td><td style=\"text-align: right;\">           1</td><td>N                   </td><td style=\"text-align: right;\">           142</td><td style=\"text-align: right;\">           200</td><td style=\"text-align: right;\">             1</td><td style=\"text-align: right;\">         45.7</td><td style=\"text-align: right;\">   1   </td><td style=\"text-align: right;\">      0.5</td><td style=\"text-align: right;\">       10.74</td><td style=\"text-align: right;\">             3</td><td style=\"text-align: right;\">                      1</td><td style=\"text-align: right;\">         64.44</td><td style=\"text-align: right;\">                   2.5</td><td style=\"text-align: right;\">         0   </td></tr>\n",
       "<tr><td><i style='opacity: 0.6'>8</i></td><td style=\"text-align: right;\">         2</td><td>2023-01-01 00:21:44.000000000</td><td>2023-01-01 00:36:40.000000000</td><td style=\"text-align: right;\">                1</td><td style=\"text-align: right;\">           2.95</td><td style=\"text-align: right;\">           1</td><td>N                   </td><td style=\"text-align: right;\">           164</td><td style=\"text-align: right;\">           236</td><td style=\"text-align: right;\">             1</td><td style=\"text-align: right;\">         17.7</td><td style=\"text-align: right;\">   1   </td><td style=\"text-align: right;\">      0.5</td><td style=\"text-align: right;\">        5.68</td><td style=\"text-align: right;\">             0</td><td style=\"text-align: right;\">                      1</td><td style=\"text-align: right;\">         28.38</td><td style=\"text-align: right;\">                   2.5</td><td style=\"text-align: right;\">         0   </td></tr>\n",
       "<tr><td><i style='opacity: 0.6'>9</i></td><td style=\"text-align: right;\">         2</td><td>2023-01-01 00:39:42.000000000</td><td>2023-01-01 00:50:36.000000000</td><td style=\"text-align: right;\">                1</td><td style=\"text-align: right;\">           3.01</td><td style=\"text-align: right;\">           1</td><td>N                   </td><td style=\"text-align: right;\">           141</td><td style=\"text-align: right;\">           107</td><td style=\"text-align: right;\">             2</td><td style=\"text-align: right;\">         14.9</td><td style=\"text-align: right;\">   1   </td><td style=\"text-align: right;\">      0.5</td><td style=\"text-align: right;\">        0   </td><td style=\"text-align: right;\">             0</td><td style=\"text-align: right;\">                      1</td><td style=\"text-align: right;\">         19.9 </td><td style=\"text-align: right;\">                   2.5</td><td style=\"text-align: right;\">         0   </td></tr>\n",
       "</tbody>\n",
       "</table>"
      ]
     },
     "metadata": {
      "application/vnd.databricks.v1+output": {
       "addedWidgets": {},
       "arguments": {},
       "data": "<table>\n<thead>\n<tr><th>#                            </th><th style=\"text-align: right;\">  VendorID</th><th>tpep_pickup_datetime         </th><th>tpep_dropoff_datetime        </th><th style=\"text-align: right;\">  passenger_count</th><th style=\"text-align: right;\">  trip_distance</th><th style=\"text-align: right;\">  RatecodeID</th><th>store_and_fwd_flag  </th><th style=\"text-align: right;\">  PULocationID</th><th style=\"text-align: right;\">  DOLocationID</th><th style=\"text-align: right;\">  payment_type</th><th style=\"text-align: right;\">  fare_amount</th><th style=\"text-align: right;\">  extra</th><th style=\"text-align: right;\">  mta_tax</th><th style=\"text-align: right;\">  tip_amount</th><th style=\"text-align: right;\">  tolls_amount</th><th style=\"text-align: right;\">  improvement_surcharge</th><th style=\"text-align: right;\">  total_amount</th><th style=\"text-align: right;\">  congestion_surcharge</th><th style=\"text-align: right;\">  airport_fee</th></tr>\n</thead>\n<tbody>\n<tr><td><i style='opacity: 0.6'>0</i></td><td style=\"text-align: right;\">         2</td><td>2023-01-01 00:32:10.000000000</td><td>2023-01-01 00:40:36.000000000</td><td style=\"text-align: right;\">                1</td><td style=\"text-align: right;\">           0.97</td><td style=\"text-align: right;\">           1</td><td>N                   </td><td style=\"text-align: right;\">           161</td><td style=\"text-align: right;\">           141</td><td style=\"text-align: right;\">             2</td><td style=\"text-align: right;\">          9.3</td><td style=\"text-align: right;\">   1   </td><td style=\"text-align: right;\">      0.5</td><td style=\"text-align: right;\">        0   </td><td style=\"text-align: right;\">             0</td><td style=\"text-align: right;\">                      1</td><td style=\"text-align: right;\">         14.3 </td><td style=\"text-align: right;\">                   2.5</td><td style=\"text-align: right;\">         0   </td></tr>\n<tr><td><i style='opacity: 0.6'>1</i></td><td style=\"text-align: right;\">         2</td><td>2023-01-01 00:55:08.000000000</td><td>2023-01-01 01:01:27.000000000</td><td style=\"text-align: right;\">                1</td><td style=\"text-align: right;\">           1.1 </td><td style=\"text-align: right;\">           1</td><td>N                   </td><td style=\"text-align: right;\">            43</td><td style=\"text-align: right;\">           237</td><td style=\"text-align: right;\">             1</td><td style=\"text-align: right;\">          7.9</td><td style=\"text-align: right;\">   1   </td><td style=\"text-align: right;\">      0.5</td><td style=\"text-align: right;\">        4   </td><td style=\"text-align: right;\">             0</td><td style=\"text-align: right;\">                      1</td><td style=\"text-align: right;\">         16.9 </td><td style=\"text-align: right;\">                   2.5</td><td style=\"text-align: right;\">         0   </td></tr>\n<tr><td><i style='opacity: 0.6'>2</i></td><td style=\"text-align: right;\">         2</td><td>2023-01-01 00:25:04.000000000</td><td>2023-01-01 00:37:49.000000000</td><td style=\"text-align: right;\">                1</td><td style=\"text-align: right;\">           2.51</td><td style=\"text-align: right;\">           1</td><td>N                   </td><td style=\"text-align: right;\">            48</td><td style=\"text-align: right;\">           238</td><td style=\"text-align: right;\">             1</td><td style=\"text-align: right;\">         14.9</td><td style=\"text-align: right;\">   1   </td><td style=\"text-align: right;\">      0.5</td><td style=\"text-align: right;\">       15   </td><td style=\"text-align: right;\">             0</td><td style=\"text-align: right;\">                      1</td><td style=\"text-align: right;\">         34.9 </td><td style=\"text-align: right;\">                   2.5</td><td style=\"text-align: right;\">         0   </td></tr>\n<tr><td><i style='opacity: 0.6'>3</i></td><td style=\"text-align: right;\">         1</td><td>2023-01-01 00:03:48.000000000</td><td>2023-01-01 00:13:25.000000000</td><td style=\"text-align: right;\">                0</td><td style=\"text-align: right;\">           1.9 </td><td style=\"text-align: right;\">           1</td><td>N                   </td><td style=\"text-align: right;\">           138</td><td style=\"text-align: right;\">             7</td><td style=\"text-align: right;\">             1</td><td style=\"text-align: right;\">         12.1</td><td style=\"text-align: right;\">   7.25</td><td style=\"text-align: right;\">      0.5</td><td style=\"text-align: right;\">        0   </td><td style=\"text-align: right;\">             0</td><td style=\"text-align: right;\">                      1</td><td style=\"text-align: right;\">         20.85</td><td style=\"text-align: right;\">                   0  </td><td style=\"text-align: right;\">         1.25</td></tr>\n<tr><td><i style='opacity: 0.6'>4</i></td><td style=\"text-align: right;\">         2</td><td>2023-01-01 00:10:29.000000000</td><td>2023-01-01 00:21:19.000000000</td><td style=\"text-align: right;\">                1</td><td style=\"text-align: right;\">           1.43</td><td style=\"text-align: right;\">           1</td><td>N                   </td><td style=\"text-align: right;\">           107</td><td style=\"text-align: right;\">            79</td><td style=\"text-align: right;\">             1</td><td style=\"text-align: right;\">         11.4</td><td style=\"text-align: right;\">   1   </td><td style=\"text-align: right;\">      0.5</td><td style=\"text-align: right;\">        3.28</td><td style=\"text-align: right;\">             0</td><td style=\"text-align: right;\">                      1</td><td style=\"text-align: right;\">         19.68</td><td style=\"text-align: right;\">                   2.5</td><td style=\"text-align: right;\">         0   </td></tr>\n<tr><td><i style='opacity: 0.6'>5</i></td><td style=\"text-align: right;\">         2</td><td>2023-01-01 00:50:34.000000000</td><td>2023-01-01 01:02:52.000000000</td><td style=\"text-align: right;\">                1</td><td style=\"text-align: right;\">           1.84</td><td style=\"text-align: right;\">           1</td><td>N                   </td><td style=\"text-align: right;\">           161</td><td style=\"text-align: right;\">           137</td><td style=\"text-align: right;\">             1</td><td style=\"text-align: right;\">         12.8</td><td style=\"text-align: right;\">   1   </td><td style=\"text-align: right;\">      0.5</td><td style=\"text-align: right;\">       10   </td><td style=\"text-align: right;\">             0</td><td style=\"text-align: right;\">                      1</td><td style=\"text-align: right;\">         27.8 </td><td style=\"text-align: right;\">                   2.5</td><td style=\"text-align: right;\">         0   </td></tr>\n<tr><td><i style='opacity: 0.6'>6</i></td><td style=\"text-align: right;\">         2</td><td>2023-01-01 00:09:22.000000000</td><td>2023-01-01 00:19:49.000000000</td><td style=\"text-align: right;\">                1</td><td style=\"text-align: right;\">           1.66</td><td style=\"text-align: right;\">           1</td><td>N                   </td><td style=\"text-align: right;\">           239</td><td style=\"text-align: right;\">           143</td><td style=\"text-align: right;\">             1</td><td style=\"text-align: right;\">         12.1</td><td style=\"text-align: right;\">   1   </td><td style=\"text-align: right;\">      0.5</td><td style=\"text-align: right;\">        3.42</td><td style=\"text-align: right;\">             0</td><td style=\"text-align: right;\">                      1</td><td style=\"text-align: right;\">         20.52</td><td style=\"text-align: right;\">                   2.5</td><td style=\"text-align: right;\">         0   </td></tr>\n<tr><td><i style='opacity: 0.6'>7</i></td><td style=\"text-align: right;\">         2</td><td>2023-01-01 00:27:12.000000000</td><td>2023-01-01 00:49:56.000000000</td><td style=\"text-align: right;\">                1</td><td style=\"text-align: right;\">          11.7 </td><td style=\"text-align: right;\">           1</td><td>N                   </td><td style=\"text-align: right;\">           142</td><td style=\"text-align: right;\">           200</td><td style=\"text-align: right;\">             1</td><td style=\"text-align: right;\">         45.7</td><td style=\"text-align: right;\">   1   </td><td style=\"text-align: right;\">      0.5</td><td style=\"text-align: right;\">       10.74</td><td style=\"text-align: right;\">             3</td><td style=\"text-align: right;\">                      1</td><td style=\"text-align: right;\">         64.44</td><td style=\"text-align: right;\">                   2.5</td><td style=\"text-align: right;\">         0   </td></tr>\n<tr><td><i style='opacity: 0.6'>8</i></td><td style=\"text-align: right;\">         2</td><td>2023-01-01 00:21:44.000000000</td><td>2023-01-01 00:36:40.000000000</td><td style=\"text-align: right;\">                1</td><td style=\"text-align: right;\">           2.95</td><td style=\"text-align: right;\">           1</td><td>N                   </td><td style=\"text-align: right;\">           164</td><td style=\"text-align: right;\">           236</td><td style=\"text-align: right;\">             1</td><td style=\"text-align: right;\">         17.7</td><td style=\"text-align: right;\">   1   </td><td style=\"text-align: right;\">      0.5</td><td style=\"text-align: right;\">        5.68</td><td style=\"text-align: right;\">             0</td><td style=\"text-align: right;\">                      1</td><td style=\"text-align: right;\">         28.38</td><td style=\"text-align: right;\">                   2.5</td><td style=\"text-align: right;\">         0   </td></tr>\n<tr><td><i style='opacity: 0.6'>9</i></td><td style=\"text-align: right;\">         2</td><td>2023-01-01 00:39:42.000000000</td><td>2023-01-01 00:50:36.000000000</td><td style=\"text-align: right;\">                1</td><td style=\"text-align: right;\">           3.01</td><td style=\"text-align: right;\">           1</td><td>N                   </td><td style=\"text-align: right;\">           141</td><td style=\"text-align: right;\">           107</td><td style=\"text-align: right;\">             2</td><td style=\"text-align: right;\">         14.9</td><td style=\"text-align: right;\">   1   </td><td style=\"text-align: right;\">      0.5</td><td style=\"text-align: right;\">        0   </td><td style=\"text-align: right;\">             0</td><td style=\"text-align: right;\">                      1</td><td style=\"text-align: right;\">         19.9 </td><td style=\"text-align: right;\">                   2.5</td><td style=\"text-align: right;\">         0   </td></tr>\n</tbody>\n</table>",
       "datasetInfos": [],
       "metadata": {},
       "removedWidgets": [],
       "textData": null,
       "type": "htmlSandbox"
      }
     },
     "output_type": "display_data"
    }
   ],
   "source": [
    "vaex_data = vaex.from_pandas(pandas_data)\n",
    "\n",
    "vaex_benchmarks = {\n",
    "    'duration': [],  # in seconds\n",
    "    'task': [],\n",
    "}\n",
    "vaex_data.head()"
   ]
  },
  {
   "cell_type": "code",
   "execution_count": 0,
   "metadata": {
    "application/vnd.databricks.v1+cell": {
     "cellMetadata": {
      "byteLimit": 2048000,
      "rowLimit": 10000
     },
     "inputWidgets": {},
     "nuid": "e2275cf0-ffbe-4e51-8e01-2f36caa40410",
     "showTitle": false,
     "title": ""
    }
   },
   "outputs": [],
   "source": [
    "# Read file (assuming Parquet format)\n",
    "def read_file_parquet():\n",
    "    return vaex.open(\"/FileStore/tables/yellow_tripdata_2023_01.parquet\")\n",
    "\n",
    "# Count rows\n",
    "def count(df):\n",
    "    return len(df)\n",
    "\n",
    "# Count index length\n",
    "def count_index_length(df):\n",
    "    return len(df)\n",
    "\n",
    "# Mean\n",
    "def mean(df):\n",
    "    return df['fare_amount'].mean()\n",
    "\n",
    "# Standard deviation\n",
    "def standard_deviation(df):\n",
    "    return df['fare_amount'].std()\n",
    "\n",
    "# Mean of sum\n",
    "def mean_of_sum(df):\n",
    "    return (df['fare_amount'] + df['tip_amount']).mean()\n",
    "\n",
    "# Sum columns\n",
    "def sum_columns(df):\n",
    "    return (df['fare_amount'] + df['tip_amount']).sum()\n",
    "\n",
    "# Mean of product\n",
    "def mean_of_product(df):\n",
    "    return (df['fare_amount'] * df['tip_amount']).mean()\n",
    "\n",
    "# Product columns\n",
    "def product_columns(df):\n",
    "    return (df['fare_amount'] * df['tip_amount']).sum()\n",
    "\n",
    "# Value counts\n",
    "def value_counts(df):\n",
    "    return df['fare_amount'].value_counts()\n",
    "\n",
    "# Mean of complicated arithmetic operation\n",
    "def mean_of_complicated_arithmetic_operation(df):\n",
    "    theta_1 = df['start_lon']\n",
    "    phi_1 = df['start_lat']\n",
    "    theta_2 = df['end_lon']\n",
    "    phi_2 = df['end_lat']\n",
    "    temp = (vaex.utils.deg2rad(theta_2 - theta_1) / 2).sin() ** 2 + (vaex.utils.deg2rad(phi_2 - phi_1) / 2).sin() ** 2\n",
    "    ret = (2 * vaex.utils.rad2deg(temp.sqrt() / (1 - temp).sqrt())).mean()\n",
    "    return ret\n",
    "\n",
    "# Complicated arithmetic operation\n",
    "def complicated_arithmetic_operation(df):\n",
    "    theta_1 = df['start_lon']\n",
    "    phi_1 = df['start_lat']\n",
    "    theta_2 = df['end_lon']\n",
    "    phi_2 = df['end_lat']\n",
    "    temp = (vaex.utils.deg2rad(theta_2 - theta_1) / 2).sin() ** 2 + (vaex.utils.deg2rad(phi_2 - phi_1) / 2).sin() ** 2\n",
    "    ret = 2 * vaex.utils.rad2deg(vaex.utils.arctan2(temp.sqrt(), (1 - temp).sqrt()))\n",
    "    return ret\n",
    "\n",
    "# Groupby statistics\n",
    "def groupby_statistics(df):\n",
    "    return df.groupby(by=df['passenger_count']).agg({\n",
    "        'fare_amount': ['mean', 'std'],\n",
    "        'tip_amount': ['mean', 'std']\n",
    "    })\n",
    "\n",
    "other = groupby_statistics(vaex_data)\n",
    "\n",
    "# Join count\n",
    "def join_count(df, other):\n",
    "    return len(df.join(other, on='passenger_count', rsuffix='_other'))\n",
    "\n",
    "# Join data\n",
    "def join_data(df, other):\n",
    "    return df.join(other, on='passenger_count', rsuffix='_other')"
   ]
  },
  {
   "cell_type": "code",
   "execution_count": 0,
   "metadata": {
    "application/vnd.databricks.v1+cell": {
     "cellMetadata": {
      "byteLimit": 2048000,
      "rowLimit": 10000
     },
     "inputWidgets": {},
     "nuid": "5921779e-ad6c-4a55-ba69-50cacf9f60c5",
     "showTitle": false,
     "title": ""
    }
   },
   "outputs": [
    {
     "output_type": "stream",
     "name": "stdout",
     "output_type": "stream",
     "text": [
      "count took: 1.4543533325195312e-05 seconds\ncount index length took: 6.4373016357421875e-06 seconds\nmean took: 0.023628711700439453 seconds\nstandard deviation took: 0.13939714431762695 seconds\nmean of columns addition took: 0.036054372787475586 seconds\naddition of columns took: 0.03216671943664551 seconds\nmean of columns multiplication took: 0.04404187202453613 seconds\nmultiplication of columns took: 0.030757427215576172 seconds\nvalue counts took: 0.07884335517883301 seconds\ngroupby statistics took: 0.4891469478607178 seconds\njoin count took: 0.06205630302429199 seconds\njoin took: 0.05375051498413086 seconds\nOut[5]: 0.05375051498413086"
     ]
    }
   ],
   "source": [
    "#benchmark(read_file_parquet, df=None, benchmarks=dask_benchmarks, name='read file')\n",
    "benchmark(count, df=vaex_data, benchmarks=vaex_benchmarks, name='count')\n",
    "benchmark(count_index_length, df=vaex_data, benchmarks=vaex_benchmarks, name='count index length')\n",
    "benchmark(mean, df=vaex_data, benchmarks=vaex_benchmarks, name='mean')\n",
    "benchmark(standard_deviation, df=vaex_data, benchmarks=vaex_benchmarks, name='standard deviation')\n",
    "benchmark(mean_of_sum, df=vaex_data, benchmarks=vaex_benchmarks, name='mean of columns addition')\n",
    "benchmark(sum_columns, df=vaex_data, benchmarks=vaex_benchmarks, name='addition of columns')\n",
    "benchmark(mean_of_product, df=vaex_data, benchmarks=vaex_benchmarks, name='mean of columns multiplication')\n",
    "benchmark(product_columns, df=vaex_data, benchmarks=vaex_benchmarks, name='multiplication of columns')\n",
    "benchmark(value_counts, df=vaex_data, benchmarks=vaex_benchmarks, name='value counts')\n",
    "# No column for this\n",
    "# benchmark(mean_of_complicated_arithmetic_operation, df=dask_data, benchmarks=dask_benchmarks, name='mean of complex arithmetic ops')\n",
    "# benchmark(complicated_arithmetic_operation, df=dask_data, benchmarks=dask_benchmarks, name='complex arithmetic ops')\n",
    "benchmark(groupby_statistics, df=vaex_data, benchmarks=vaex_benchmarks, name='groupby statistics')\n",
    "benchmark(join_count, vaex_data, benchmarks=vaex_benchmarks, name='join count', other=other)\n",
    "benchmark(join_data, vaex_data, benchmarks=vaex_benchmarks, name='join', other=other) # cant join"
   ]
  },
  {
   "cell_type": "markdown",
   "metadata": {
    "application/vnd.databricks.v1+cell": {
     "cellMetadata": {
      "byteLimit": 2048000,
      "rowLimit": 10000
     },
     "inputWidgets": {},
     "nuid": "3115e254-f7e8-40c3-b8f6-b3acee81ba40",
     "showTitle": false,
     "title": ""
    }
   },
   "source": [
    "Operations with filtering"
   ]
  },
  {
   "cell_type": "code",
   "execution_count": 0,
   "metadata": {
    "application/vnd.databricks.v1+cell": {
     "cellMetadata": {
      "byteLimit": 2048000,
      "rowLimit": 10000
     },
     "inputWidgets": {},
     "nuid": "cdba2e0a-748c-4c07-b6a0-b382022fd050",
     "showTitle": false,
     "title": ""
    }
   },
   "outputs": [],
   "source": [
    "expr_filter = (vaex_data.tip_amount >= 1) & (vaex_data.tip_amount <= 5)\n",
    "\n",
    "def filter_data(df):\n",
    "    return df[expr_filter]\n",
    "  \n",
    "vaex_filtered = filter_data(vaex_data)"
   ]
  },
  {
   "cell_type": "code",
   "execution_count": 0,
   "metadata": {
    "application/vnd.databricks.v1+cell": {
     "cellMetadata": {
      "byteLimit": 2048000,
      "rowLimit": 10000
     },
     "inputWidgets": {},
     "nuid": "0657d2aa-6704-435d-abb8-f4cb7e3e1d09",
     "showTitle": false,
     "title": ""
    }
   },
   "outputs": [
    {
     "output_type": "stream",
     "name": "stdout",
     "output_type": "stream",
     "text": [
      "filtered count took: 0.018093347549438477 seconds\nfiltered count index length took: 1.0013580322265625e-05 seconds\nfiltered mean took: 0.04276633262634277 seconds\nfiltered standard deviation took: 0.11040163040161133 seconds\nfiltered mean of columns addition took: 0.06661796569824219 seconds\nfiltered addition of columns took: 0.06420516967773438 seconds\nfiltered mean of columns multiplication took: 0.06282472610473633 seconds\nfiltered multiplication of columns took: 0.05987715721130371 seconds\nfiltered value counts took: 0.09107613563537598 seconds\nfiltered groupby statistics took: 0.35552000999450684 seconds\nfiltered join count took: 0.05442380905151367 seconds\nfiltered join took: 0.05325722694396973 seconds\nOut[7]: 0.05325722694396973"
     ]
    }
   ],
   "source": [
    "benchmark(count, vaex_filtered, benchmarks=vaex_benchmarks, name='filtered count')\n",
    "benchmark(count_index_length, vaex_filtered, benchmarks=vaex_benchmarks, name='filtered count index length')\n",
    "benchmark(mean, vaex_filtered, benchmarks=vaex_benchmarks, name='filtered mean')\n",
    "benchmark(standard_deviation, vaex_filtered, benchmarks=vaex_benchmarks, name='filtered standard deviation')\n",
    "benchmark(mean_of_sum, vaex_filtered, benchmarks=vaex_benchmarks, name ='filtered mean of columns addition')\n",
    "benchmark(sum_columns, df=vaex_filtered, benchmarks=vaex_benchmarks, name='filtered addition of columns')\n",
    "benchmark(mean_of_product, vaex_filtered, benchmarks=vaex_benchmarks, name ='filtered mean of columns multiplication')\n",
    "benchmark(product_columns, df=vaex_filtered, benchmarks=vaex_benchmarks, name='filtered multiplication of columns')\n",
    "#benchmark(mean_of_complicated_arithmetic_operation, dask_filtered, benchmarks=dask_benchmarks, name='filtered mean of complex arithmetic ops')\n",
    "#benchmark(complicated_arithmetic_operation, dask_filtered, benchmarks=dask_benchmarks, name='filtered complex arithmetic ops')\n",
    "benchmark(value_counts, vaex_filtered, benchmarks=vaex_benchmarks, name ='filtered value counts')\n",
    "benchmark(groupby_statistics, vaex_filtered, benchmarks=vaex_benchmarks, name='filtered groupby statistics')\n",
    "\n",
    "other = groupby_statistics(vaex_filtered)\n",
    "# other.columns = pd.Index([e[0]+'_' + e[1] for e in other.columns.tolist()])\n",
    "\n",
    "benchmark(join_count, vaex_filtered, benchmarks=vaex_benchmarks, name='filtered join count', other=other)\n",
    "benchmark(join_data, vaex_filtered, benchmarks=vaex_benchmarks, name='filtered join', other=other)"
   ]
  },
  {
   "cell_type": "code",
   "execution_count": 0,
   "metadata": {
    "application/vnd.databricks.v1+cell": {
     "cellMetadata": {
      "byteLimit": 2048000,
      "rowLimit": 10000
     },
     "inputWidgets": {},
     "nuid": "40b6ed7a-4742-4834-a448-46c760932fa9",
     "showTitle": false,
     "title": ""
    }
   },
   "outputs": [
    {
     "output_type": "display_data",
     "data": {
      "text/html": [
       "<div>\n",
       "<style scoped>\n",
       "    .dataframe tbody tr th:only-of-type {\n",
       "        vertical-align: middle;\n",
       "    }\n",
       "\n",
       "    .dataframe tbody tr th {\n",
       "        vertical-align: top;\n",
       "    }\n",
       "\n",
       "    .dataframe thead th {\n",
       "        text-align: right;\n",
       "    }\n",
       "</style>\n",
       "<table border=\"1\" class=\"dataframe\">\n",
       "  <thead>\n",
       "    <tr style=\"text-align: right;\">\n",
       "      <th></th>\n",
       "      <th>duration</th>\n",
       "    </tr>\n",
       "    <tr>\n",
       "      <th>task</th>\n",
       "      <th></th>\n",
       "    </tr>\n",
       "  </thead>\n",
       "  <tbody>\n",
       "    <tr>\n",
       "      <th>count</th>\n",
       "      <td>0.000015</td>\n",
       "    </tr>\n",
       "    <tr>\n",
       "      <th>count index length</th>\n",
       "      <td>0.000006</td>\n",
       "    </tr>\n",
       "    <tr>\n",
       "      <th>mean</th>\n",
       "      <td>0.023629</td>\n",
       "    </tr>\n",
       "    <tr>\n",
       "      <th>standard deviation</th>\n",
       "      <td>0.139397</td>\n",
       "    </tr>\n",
       "    <tr>\n",
       "      <th>mean of columns addition</th>\n",
       "      <td>0.036054</td>\n",
       "    </tr>\n",
       "    <tr>\n",
       "      <th>addition of columns</th>\n",
       "      <td>0.032167</td>\n",
       "    </tr>\n",
       "    <tr>\n",
       "      <th>mean of columns multiplication</th>\n",
       "      <td>0.044042</td>\n",
       "    </tr>\n",
       "    <tr>\n",
       "      <th>multiplication of columns</th>\n",
       "      <td>0.030757</td>\n",
       "    </tr>\n",
       "    <tr>\n",
       "      <th>value counts</th>\n",
       "      <td>0.078843</td>\n",
       "    </tr>\n",
       "    <tr>\n",
       "      <th>groupby statistics</th>\n",
       "      <td>0.489147</td>\n",
       "    </tr>\n",
       "    <tr>\n",
       "      <th>join count</th>\n",
       "      <td>0.062056</td>\n",
       "    </tr>\n",
       "    <tr>\n",
       "      <th>join</th>\n",
       "      <td>0.053751</td>\n",
       "    </tr>\n",
       "    <tr>\n",
       "      <th>filtered count</th>\n",
       "      <td>0.018093</td>\n",
       "    </tr>\n",
       "    <tr>\n",
       "      <th>filtered count index length</th>\n",
       "      <td>0.000010</td>\n",
       "    </tr>\n",
       "    <tr>\n",
       "      <th>filtered mean</th>\n",
       "      <td>0.042766</td>\n",
       "    </tr>\n",
       "    <tr>\n",
       "      <th>filtered standard deviation</th>\n",
       "      <td>0.110402</td>\n",
       "    </tr>\n",
       "    <tr>\n",
       "      <th>filtered mean of columns addition</th>\n",
       "      <td>0.066618</td>\n",
       "    </tr>\n",
       "    <tr>\n",
       "      <th>filtered addition of columns</th>\n",
       "      <td>0.064205</td>\n",
       "    </tr>\n",
       "    <tr>\n",
       "      <th>filtered mean of columns multiplication</th>\n",
       "      <td>0.062825</td>\n",
       "    </tr>\n",
       "    <tr>\n",
       "      <th>filtered multiplication of columns</th>\n",
       "      <td>0.059877</td>\n",
       "    </tr>\n",
       "    <tr>\n",
       "      <th>filtered value counts</th>\n",
       "      <td>0.091076</td>\n",
       "    </tr>\n",
       "    <tr>\n",
       "      <th>filtered groupby statistics</th>\n",
       "      <td>0.355520</td>\n",
       "    </tr>\n",
       "    <tr>\n",
       "      <th>filtered join count</th>\n",
       "      <td>0.054424</td>\n",
       "    </tr>\n",
       "    <tr>\n",
       "      <th>filtered join</th>\n",
       "      <td>0.053257</td>\n",
       "    </tr>\n",
       "  </tbody>\n",
       "</table>\n",
       "</div>"
      ]
     },
     "metadata": {
      "application/vnd.databricks.v1+output": {
       "addedWidgets": {},
       "arguments": {},
       "data": "<div>\n<style scoped>\n    .dataframe tbody tr th:only-of-type {\n        vertical-align: middle;\n    }\n\n    .dataframe tbody tr th {\n        vertical-align: top;\n    }\n\n    .dataframe thead th {\n        text-align: right;\n    }\n</style>\n<table border=\"1\" class=\"dataframe\">\n  <thead>\n    <tr style=\"text-align: right;\">\n      <th></th>\n      <th>duration</th>\n    </tr>\n    <tr>\n      <th>task</th>\n      <th></th>\n    </tr>\n  </thead>\n  <tbody>\n    <tr>\n      <th>count</th>\n      <td>0.000015</td>\n    </tr>\n    <tr>\n      <th>count index length</th>\n      <td>0.000006</td>\n    </tr>\n    <tr>\n      <th>mean</th>\n      <td>0.023629</td>\n    </tr>\n    <tr>\n      <th>standard deviation</th>\n      <td>0.139397</td>\n    </tr>\n    <tr>\n      <th>mean of columns addition</th>\n      <td>0.036054</td>\n    </tr>\n    <tr>\n      <th>addition of columns</th>\n      <td>0.032167</td>\n    </tr>\n    <tr>\n      <th>mean of columns multiplication</th>\n      <td>0.044042</td>\n    </tr>\n    <tr>\n      <th>multiplication of columns</th>\n      <td>0.030757</td>\n    </tr>\n    <tr>\n      <th>value counts</th>\n      <td>0.078843</td>\n    </tr>\n    <tr>\n      <th>groupby statistics</th>\n      <td>0.489147</td>\n    </tr>\n    <tr>\n      <th>join count</th>\n      <td>0.062056</td>\n    </tr>\n    <tr>\n      <th>join</th>\n      <td>0.053751</td>\n    </tr>\n    <tr>\n      <th>filtered count</th>\n      <td>0.018093</td>\n    </tr>\n    <tr>\n      <th>filtered count index length</th>\n      <td>0.000010</td>\n    </tr>\n    <tr>\n      <th>filtered mean</th>\n      <td>0.042766</td>\n    </tr>\n    <tr>\n      <th>filtered standard deviation</th>\n      <td>0.110402</td>\n    </tr>\n    <tr>\n      <th>filtered mean of columns addition</th>\n      <td>0.066618</td>\n    </tr>\n    <tr>\n      <th>filtered addition of columns</th>\n      <td>0.064205</td>\n    </tr>\n    <tr>\n      <th>filtered mean of columns multiplication</th>\n      <td>0.062825</td>\n    </tr>\n    <tr>\n      <th>filtered multiplication of columns</th>\n      <td>0.059877</td>\n    </tr>\n    <tr>\n      <th>filtered value counts</th>\n      <td>0.091076</td>\n    </tr>\n    <tr>\n      <th>filtered groupby statistics</th>\n      <td>0.355520</td>\n    </tr>\n    <tr>\n      <th>filtered join count</th>\n      <td>0.054424</td>\n    </tr>\n    <tr>\n      <th>filtered join</th>\n      <td>0.053257</td>\n    </tr>\n  </tbody>\n</table>\n</div>",
       "datasetInfos": [],
       "metadata": {},
       "removedWidgets": [],
       "textData": null,
       "type": "htmlSandbox"
      }
     },
     "output_type": "display_data"
    }
   ],
   "source": [
    "vaex_res_temp = get_results(vaex_benchmarks).set_index('task')\n",
    "vaex_res_temp"
   ]
  },
  {
   "cell_type": "code",
   "execution_count": 0,
   "metadata": {
    "application/vnd.databricks.v1+cell": {
     "cellMetadata": {
      "byteLimit": 2048000,
      "rowLimit": 10000
     },
     "inputWidgets": {},
     "nuid": "ab2fca86-6a88-474e-a370-e5f215041c59",
     "showTitle": false,
     "title": ""
    }
   },
   "outputs": [],
   "source": []
  },
  {
   "cell_type": "code",
   "execution_count": 0,
   "metadata": {
    "application/vnd.databricks.v1+cell": {
     "cellMetadata": {
      "byteLimit": 2048000,
      "rowLimit": 10000
     },
     "inputWidgets": {},
     "nuid": "553dd689-c155-4eac-a619-9f20571529ed",
     "showTitle": false,
     "title": ""
    }
   },
   "outputs": [],
   "source": []
  }
 ],
 "metadata": {
  "application/vnd.databricks.v1+notebook": {
   "dashboards": [],
   "environmentMetadata": null,
   "language": "python",
   "notebookMetadata": {
    "pythonIndentUnit": 4
   },
   "notebookName": "Vaex",
   "widgets": {}
  }
 },
 "nbformat": 4,
 "nbformat_minor": 0
}
